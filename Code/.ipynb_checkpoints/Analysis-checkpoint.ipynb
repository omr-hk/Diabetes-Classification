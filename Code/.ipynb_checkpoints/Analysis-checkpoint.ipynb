{
 "cells": [
  {
   "cell_type": "code",
   "execution_count": 4,
   "metadata": {
    "colab": {
     "base_uri": "https://localhost:8080/"
    },
    "executionInfo": {
     "elapsed": 4106,
     "status": "ok",
     "timestamp": 1684127673774,
     "user": {
      "displayName": "Omar Hassan",
      "userId": "03184696695209264870"
     },
     "user_tz": -330
    },
    "id": "p9n0Znl91Hfu",
    "outputId": "fb8343ed-1e47-469c-e26c-b7dca65aae35"
   },
   "outputs": [
    {
     "name": "stdout",
     "output_type": "stream",
     "text": [
      "Drive already mounted at /content/drive; to attempt to forcibly remount, call drive.mount(\"/content/drive\", force_remount=True).\n"
     ]
    }
   ],
   "source": [
    "from google.colab import drive\n",
    "drive.mount('/content/drive')"
   ]
  },
  {
   "cell_type": "code",
   "execution_count": 5,
   "metadata": {
    "executionInfo": {
     "elapsed": 5,
     "status": "ok",
     "timestamp": 1684127673774,
     "user": {
      "displayName": "Omar Hassan",
      "userId": "03184696695209264870"
     },
     "user_tz": -330
    },
    "id": "i4kxOM-bEeer"
   },
   "outputs": [],
   "source": [
    "import pandas as pd\n",
    "import numpy as np\n",
    "import matplotlib.pyplot as plt"
   ]
  },
  {
   "cell_type": "code",
   "execution_count": 6,
   "metadata": {
    "colab": {
     "base_uri": "https://localhost:8080/",
     "height": 206
    },
    "executionInfo": {
     "elapsed": 864,
     "status": "ok",
     "timestamp": 1684127674634,
     "user": {
      "displayName": "Omar Hassan",
      "userId": "03184696695209264870"
     },
     "user_tz": -330
    },
    "id": "v17sO77iEqOo",
    "outputId": "c416d73a-89eb-403c-c824-2b3e62b3af5b"
   },
   "outputs": [
    {
     "data": {
      "text/html": [
       "\n",
       "  <div id=\"df-b93926c0-5548-49b5-bd64-045b22f1aa62\">\n",
       "    <div class=\"colab-df-container\">\n",
       "      <div>\n",
       "<style scoped>\n",
       "    .dataframe tbody tr th:only-of-type {\n",
       "        vertical-align: middle;\n",
       "    }\n",
       "\n",
       "    .dataframe tbody tr th {\n",
       "        vertical-align: top;\n",
       "    }\n",
       "\n",
       "    .dataframe thead th {\n",
       "        text-align: right;\n",
       "    }\n",
       "</style>\n",
       "<table border=\"1\" class=\"dataframe\">\n",
       "  <thead>\n",
       "    <tr style=\"text-align: right;\">\n",
       "      <th></th>\n",
       "      <th>gender</th>\n",
       "      <th>age</th>\n",
       "      <th>hypertension</th>\n",
       "      <th>heart_disease</th>\n",
       "      <th>smoking_history</th>\n",
       "      <th>bmi</th>\n",
       "      <th>HbA1c_level</th>\n",
       "      <th>blood_glucose_level</th>\n",
       "      <th>diabetes</th>\n",
       "    </tr>\n",
       "  </thead>\n",
       "  <tbody>\n",
       "    <tr>\n",
       "      <th>0</th>\n",
       "      <td>Female</td>\n",
       "      <td>80.0</td>\n",
       "      <td>0</td>\n",
       "      <td>1</td>\n",
       "      <td>never</td>\n",
       "      <td>25.19</td>\n",
       "      <td>6.6</td>\n",
       "      <td>140</td>\n",
       "      <td>0</td>\n",
       "    </tr>\n",
       "    <tr>\n",
       "      <th>1</th>\n",
       "      <td>Female</td>\n",
       "      <td>54.0</td>\n",
       "      <td>0</td>\n",
       "      <td>0</td>\n",
       "      <td>No Info</td>\n",
       "      <td>27.32</td>\n",
       "      <td>6.6</td>\n",
       "      <td>80</td>\n",
       "      <td>0</td>\n",
       "    </tr>\n",
       "    <tr>\n",
       "      <th>2</th>\n",
       "      <td>Male</td>\n",
       "      <td>28.0</td>\n",
       "      <td>0</td>\n",
       "      <td>0</td>\n",
       "      <td>never</td>\n",
       "      <td>27.32</td>\n",
       "      <td>5.7</td>\n",
       "      <td>158</td>\n",
       "      <td>0</td>\n",
       "    </tr>\n",
       "    <tr>\n",
       "      <th>3</th>\n",
       "      <td>Female</td>\n",
       "      <td>36.0</td>\n",
       "      <td>0</td>\n",
       "      <td>0</td>\n",
       "      <td>current</td>\n",
       "      <td>23.45</td>\n",
       "      <td>5.0</td>\n",
       "      <td>155</td>\n",
       "      <td>0</td>\n",
       "    </tr>\n",
       "    <tr>\n",
       "      <th>4</th>\n",
       "      <td>Male</td>\n",
       "      <td>76.0</td>\n",
       "      <td>1</td>\n",
       "      <td>1</td>\n",
       "      <td>current</td>\n",
       "      <td>20.14</td>\n",
       "      <td>4.8</td>\n",
       "      <td>155</td>\n",
       "      <td>0</td>\n",
       "    </tr>\n",
       "  </tbody>\n",
       "</table>\n",
       "</div>\n",
       "      <button class=\"colab-df-convert\" onclick=\"convertToInteractive('df-b93926c0-5548-49b5-bd64-045b22f1aa62')\"\n",
       "              title=\"Convert this dataframe to an interactive table.\"\n",
       "              style=\"display:none;\">\n",
       "        \n",
       "  <svg xmlns=\"http://www.w3.org/2000/svg\" height=\"24px\"viewBox=\"0 0 24 24\"\n",
       "       width=\"24px\">\n",
       "    <path d=\"M0 0h24v24H0V0z\" fill=\"none\"/>\n",
       "    <path d=\"M18.56 5.44l.94 2.06.94-2.06 2.06-.94-2.06-.94-.94-2.06-.94 2.06-2.06.94zm-11 1L8.5 8.5l.94-2.06 2.06-.94-2.06-.94L8.5 2.5l-.94 2.06-2.06.94zm10 10l.94 2.06.94-2.06 2.06-.94-2.06-.94-.94-2.06-.94 2.06-2.06.94z\"/><path d=\"M17.41 7.96l-1.37-1.37c-.4-.4-.92-.59-1.43-.59-.52 0-1.04.2-1.43.59L10.3 9.45l-7.72 7.72c-.78.78-.78 2.05 0 2.83L4 21.41c.39.39.9.59 1.41.59.51 0 1.02-.2 1.41-.59l7.78-7.78 2.81-2.81c.8-.78.8-2.07 0-2.86zM5.41 20L4 18.59l7.72-7.72 1.47 1.35L5.41 20z\"/>\n",
       "  </svg>\n",
       "      </button>\n",
       "      \n",
       "  <style>\n",
       "    .colab-df-container {\n",
       "      display:flex;\n",
       "      flex-wrap:wrap;\n",
       "      gap: 12px;\n",
       "    }\n",
       "\n",
       "    .colab-df-convert {\n",
       "      background-color: #E8F0FE;\n",
       "      border: none;\n",
       "      border-radius: 50%;\n",
       "      cursor: pointer;\n",
       "      display: none;\n",
       "      fill: #1967D2;\n",
       "      height: 32px;\n",
       "      padding: 0 0 0 0;\n",
       "      width: 32px;\n",
       "    }\n",
       "\n",
       "    .colab-df-convert:hover {\n",
       "      background-color: #E2EBFA;\n",
       "      box-shadow: 0px 1px 2px rgba(60, 64, 67, 0.3), 0px 1px 3px 1px rgba(60, 64, 67, 0.15);\n",
       "      fill: #174EA6;\n",
       "    }\n",
       "\n",
       "    [theme=dark] .colab-df-convert {\n",
       "      background-color: #3B4455;\n",
       "      fill: #D2E3FC;\n",
       "    }\n",
       "\n",
       "    [theme=dark] .colab-df-convert:hover {\n",
       "      background-color: #434B5C;\n",
       "      box-shadow: 0px 1px 3px 1px rgba(0, 0, 0, 0.15);\n",
       "      filter: drop-shadow(0px 1px 2px rgba(0, 0, 0, 0.3));\n",
       "      fill: #FFFFFF;\n",
       "    }\n",
       "  </style>\n",
       "\n",
       "      <script>\n",
       "        const buttonEl =\n",
       "          document.querySelector('#df-b93926c0-5548-49b5-bd64-045b22f1aa62 button.colab-df-convert');\n",
       "        buttonEl.style.display =\n",
       "          google.colab.kernel.accessAllowed ? 'block' : 'none';\n",
       "\n",
       "        async function convertToInteractive(key) {\n",
       "          const element = document.querySelector('#df-b93926c0-5548-49b5-bd64-045b22f1aa62');\n",
       "          const dataTable =\n",
       "            await google.colab.kernel.invokeFunction('convertToInteractive',\n",
       "                                                     [key], {});\n",
       "          if (!dataTable) return;\n",
       "\n",
       "          const docLinkHtml = 'Like what you see? Visit the ' +\n",
       "            '<a target=\"_blank\" href=https://colab.research.google.com/notebooks/data_table.ipynb>data table notebook</a>'\n",
       "            + ' to learn more about interactive tables.';\n",
       "          element.innerHTML = '';\n",
       "          dataTable['output_type'] = 'display_data';\n",
       "          await google.colab.output.renderOutput(dataTable, element);\n",
       "          const docLink = document.createElement('div');\n",
       "          docLink.innerHTML = docLinkHtml;\n",
       "          element.appendChild(docLink);\n",
       "        }\n",
       "      </script>\n",
       "    </div>\n",
       "  </div>\n",
       "  "
      ],
      "text/plain": [
       "   gender   age  hypertension  heart_disease smoking_history    bmi  \\\n",
       "0  Female  80.0             0              1           never  25.19   \n",
       "1  Female  54.0             0              0         No Info  27.32   \n",
       "2    Male  28.0             0              0           never  27.32   \n",
       "3  Female  36.0             0              0         current  23.45   \n",
       "4    Male  76.0             1              1         current  20.14   \n",
       "\n",
       "   HbA1c_level  blood_glucose_level  diabetes  \n",
       "0          6.6                  140         0  \n",
       "1          6.6                   80         0  \n",
       "2          5.7                  158         0  \n",
       "3          5.0                  155         0  \n",
       "4          4.8                  155         0  "
      ]
     },
     "execution_count": 6,
     "metadata": {},
     "output_type": "execute_result"
    }
   ],
   "source": [
    "data=pd.read_csv('/content/drive/MyDrive/Projects/Diabetes-Classification/Dataset/diabetes_prediction_dataset.csv')\n",
    "data.head()"
   ]
  },
  {
   "cell_type": "code",
   "execution_count": 7,
   "metadata": {
    "colab": {
     "base_uri": "https://localhost:8080/"
    },
    "executionInfo": {
     "elapsed": 11,
     "status": "ok",
     "timestamp": 1684127674634,
     "user": {
      "displayName": "Omar Hassan",
      "userId": "03184696695209264870"
     },
     "user_tz": -330
    },
    "id": "v_mCR87WExJz",
    "outputId": "4ef96b43-0a03-4188-91e2-5838a59a16e8"
   },
   "outputs": [
    {
     "name": "stdout",
     "output_type": "stream",
     "text": [
      "<class 'pandas.core.frame.DataFrame'>\n",
      "RangeIndex: 100000 entries, 0 to 99999\n",
      "Data columns (total 9 columns):\n",
      " #   Column               Non-Null Count   Dtype  \n",
      "---  ------               --------------   -----  \n",
      " 0   gender               100000 non-null  object \n",
      " 1   age                  100000 non-null  float64\n",
      " 2   hypertension         100000 non-null  int64  \n",
      " 3   heart_disease        100000 non-null  int64  \n",
      " 4   smoking_history      100000 non-null  object \n",
      " 5   bmi                  100000 non-null  float64\n",
      " 6   HbA1c_level          100000 non-null  float64\n",
      " 7   blood_glucose_level  100000 non-null  int64  \n",
      " 8   diabetes             100000 non-null  int64  \n",
      "dtypes: float64(3), int64(4), object(2)\n",
      "memory usage: 6.9+ MB\n"
     ]
    }
   ],
   "source": [
    "data.info()"
   ]
  },
  {
   "cell_type": "code",
   "execution_count": 8,
   "metadata": {
    "colab": {
     "base_uri": "https://localhost:8080/",
     "height": 300
    },
    "executionInfo": {
     "elapsed": 982,
     "status": "ok",
     "timestamp": 1684127675610,
     "user": {
      "displayName": "Omar Hassan",
      "userId": "03184696695209264870"
     },
     "user_tz": -330
    },
    "id": "RpQRH3vZE0eL",
    "outputId": "05822947-dffa-4eb4-8921-25c760e0ecc5"
   },
   "outputs": [
    {
     "data": {
      "text/html": [
       "\n",
       "  <div id=\"df-b9ff3433-79c4-4ae0-b6b5-36a12dd9dba3\">\n",
       "    <div class=\"colab-df-container\">\n",
       "      <div>\n",
       "<style scoped>\n",
       "    .dataframe tbody tr th:only-of-type {\n",
       "        vertical-align: middle;\n",
       "    }\n",
       "\n",
       "    .dataframe tbody tr th {\n",
       "        vertical-align: top;\n",
       "    }\n",
       "\n",
       "    .dataframe thead th {\n",
       "        text-align: right;\n",
       "    }\n",
       "</style>\n",
       "<table border=\"1\" class=\"dataframe\">\n",
       "  <thead>\n",
       "    <tr style=\"text-align: right;\">\n",
       "      <th></th>\n",
       "      <th>age</th>\n",
       "      <th>hypertension</th>\n",
       "      <th>heart_disease</th>\n",
       "      <th>bmi</th>\n",
       "      <th>HbA1c_level</th>\n",
       "      <th>blood_glucose_level</th>\n",
       "      <th>diabetes</th>\n",
       "    </tr>\n",
       "  </thead>\n",
       "  <tbody>\n",
       "    <tr>\n",
       "      <th>count</th>\n",
       "      <td>100000.000000</td>\n",
       "      <td>100000.00000</td>\n",
       "      <td>100000.000000</td>\n",
       "      <td>100000.000000</td>\n",
       "      <td>100000.000000</td>\n",
       "      <td>100000.000000</td>\n",
       "      <td>100000.000000</td>\n",
       "    </tr>\n",
       "    <tr>\n",
       "      <th>mean</th>\n",
       "      <td>41.885856</td>\n",
       "      <td>0.07485</td>\n",
       "      <td>0.039420</td>\n",
       "      <td>27.320767</td>\n",
       "      <td>5.527507</td>\n",
       "      <td>138.058060</td>\n",
       "      <td>0.085000</td>\n",
       "    </tr>\n",
       "    <tr>\n",
       "      <th>std</th>\n",
       "      <td>22.516840</td>\n",
       "      <td>0.26315</td>\n",
       "      <td>0.194593</td>\n",
       "      <td>6.636783</td>\n",
       "      <td>1.070672</td>\n",
       "      <td>40.708136</td>\n",
       "      <td>0.278883</td>\n",
       "    </tr>\n",
       "    <tr>\n",
       "      <th>min</th>\n",
       "      <td>0.080000</td>\n",
       "      <td>0.00000</td>\n",
       "      <td>0.000000</td>\n",
       "      <td>10.010000</td>\n",
       "      <td>3.500000</td>\n",
       "      <td>80.000000</td>\n",
       "      <td>0.000000</td>\n",
       "    </tr>\n",
       "    <tr>\n",
       "      <th>25%</th>\n",
       "      <td>24.000000</td>\n",
       "      <td>0.00000</td>\n",
       "      <td>0.000000</td>\n",
       "      <td>23.630000</td>\n",
       "      <td>4.800000</td>\n",
       "      <td>100.000000</td>\n",
       "      <td>0.000000</td>\n",
       "    </tr>\n",
       "    <tr>\n",
       "      <th>50%</th>\n",
       "      <td>43.000000</td>\n",
       "      <td>0.00000</td>\n",
       "      <td>0.000000</td>\n",
       "      <td>27.320000</td>\n",
       "      <td>5.800000</td>\n",
       "      <td>140.000000</td>\n",
       "      <td>0.000000</td>\n",
       "    </tr>\n",
       "    <tr>\n",
       "      <th>75%</th>\n",
       "      <td>60.000000</td>\n",
       "      <td>0.00000</td>\n",
       "      <td>0.000000</td>\n",
       "      <td>29.580000</td>\n",
       "      <td>6.200000</td>\n",
       "      <td>159.000000</td>\n",
       "      <td>0.000000</td>\n",
       "    </tr>\n",
       "    <tr>\n",
       "      <th>max</th>\n",
       "      <td>80.000000</td>\n",
       "      <td>1.00000</td>\n",
       "      <td>1.000000</td>\n",
       "      <td>95.690000</td>\n",
       "      <td>9.000000</td>\n",
       "      <td>300.000000</td>\n",
       "      <td>1.000000</td>\n",
       "    </tr>\n",
       "  </tbody>\n",
       "</table>\n",
       "</div>\n",
       "      <button class=\"colab-df-convert\" onclick=\"convertToInteractive('df-b9ff3433-79c4-4ae0-b6b5-36a12dd9dba3')\"\n",
       "              title=\"Convert this dataframe to an interactive table.\"\n",
       "              style=\"display:none;\">\n",
       "        \n",
       "  <svg xmlns=\"http://www.w3.org/2000/svg\" height=\"24px\"viewBox=\"0 0 24 24\"\n",
       "       width=\"24px\">\n",
       "    <path d=\"M0 0h24v24H0V0z\" fill=\"none\"/>\n",
       "    <path d=\"M18.56 5.44l.94 2.06.94-2.06 2.06-.94-2.06-.94-.94-2.06-.94 2.06-2.06.94zm-11 1L8.5 8.5l.94-2.06 2.06-.94-2.06-.94L8.5 2.5l-.94 2.06-2.06.94zm10 10l.94 2.06.94-2.06 2.06-.94-2.06-.94-.94-2.06-.94 2.06-2.06.94z\"/><path d=\"M17.41 7.96l-1.37-1.37c-.4-.4-.92-.59-1.43-.59-.52 0-1.04.2-1.43.59L10.3 9.45l-7.72 7.72c-.78.78-.78 2.05 0 2.83L4 21.41c.39.39.9.59 1.41.59.51 0 1.02-.2 1.41-.59l7.78-7.78 2.81-2.81c.8-.78.8-2.07 0-2.86zM5.41 20L4 18.59l7.72-7.72 1.47 1.35L5.41 20z\"/>\n",
       "  </svg>\n",
       "      </button>\n",
       "      \n",
       "  <style>\n",
       "    .colab-df-container {\n",
       "      display:flex;\n",
       "      flex-wrap:wrap;\n",
       "      gap: 12px;\n",
       "    }\n",
       "\n",
       "    .colab-df-convert {\n",
       "      background-color: #E8F0FE;\n",
       "      border: none;\n",
       "      border-radius: 50%;\n",
       "      cursor: pointer;\n",
       "      display: none;\n",
       "      fill: #1967D2;\n",
       "      height: 32px;\n",
       "      padding: 0 0 0 0;\n",
       "      width: 32px;\n",
       "    }\n",
       "\n",
       "    .colab-df-convert:hover {\n",
       "      background-color: #E2EBFA;\n",
       "      box-shadow: 0px 1px 2px rgba(60, 64, 67, 0.3), 0px 1px 3px 1px rgba(60, 64, 67, 0.15);\n",
       "      fill: #174EA6;\n",
       "    }\n",
       "\n",
       "    [theme=dark] .colab-df-convert {\n",
       "      background-color: #3B4455;\n",
       "      fill: #D2E3FC;\n",
       "    }\n",
       "\n",
       "    [theme=dark] .colab-df-convert:hover {\n",
       "      background-color: #434B5C;\n",
       "      box-shadow: 0px 1px 3px 1px rgba(0, 0, 0, 0.15);\n",
       "      filter: drop-shadow(0px 1px 2px rgba(0, 0, 0, 0.3));\n",
       "      fill: #FFFFFF;\n",
       "    }\n",
       "  </style>\n",
       "\n",
       "      <script>\n",
       "        const buttonEl =\n",
       "          document.querySelector('#df-b9ff3433-79c4-4ae0-b6b5-36a12dd9dba3 button.colab-df-convert');\n",
       "        buttonEl.style.display =\n",
       "          google.colab.kernel.accessAllowed ? 'block' : 'none';\n",
       "\n",
       "        async function convertToInteractive(key) {\n",
       "          const element = document.querySelector('#df-b9ff3433-79c4-4ae0-b6b5-36a12dd9dba3');\n",
       "          const dataTable =\n",
       "            await google.colab.kernel.invokeFunction('convertToInteractive',\n",
       "                                                     [key], {});\n",
       "          if (!dataTable) return;\n",
       "\n",
       "          const docLinkHtml = 'Like what you see? Visit the ' +\n",
       "            '<a target=\"_blank\" href=https://colab.research.google.com/notebooks/data_table.ipynb>data table notebook</a>'\n",
       "            + ' to learn more about interactive tables.';\n",
       "          element.innerHTML = '';\n",
       "          dataTable['output_type'] = 'display_data';\n",
       "          await google.colab.output.renderOutput(dataTable, element);\n",
       "          const docLink = document.createElement('div');\n",
       "          docLink.innerHTML = docLinkHtml;\n",
       "          element.appendChild(docLink);\n",
       "        }\n",
       "      </script>\n",
       "    </div>\n",
       "  </div>\n",
       "  "
      ],
      "text/plain": [
       "                 age  hypertension  heart_disease            bmi  \\\n",
       "count  100000.000000  100000.00000  100000.000000  100000.000000   \n",
       "mean       41.885856       0.07485       0.039420      27.320767   \n",
       "std        22.516840       0.26315       0.194593       6.636783   \n",
       "min         0.080000       0.00000       0.000000      10.010000   \n",
       "25%        24.000000       0.00000       0.000000      23.630000   \n",
       "50%        43.000000       0.00000       0.000000      27.320000   \n",
       "75%        60.000000       0.00000       0.000000      29.580000   \n",
       "max        80.000000       1.00000       1.000000      95.690000   \n",
       "\n",
       "         HbA1c_level  blood_glucose_level       diabetes  \n",
       "count  100000.000000        100000.000000  100000.000000  \n",
       "mean        5.527507           138.058060       0.085000  \n",
       "std         1.070672            40.708136       0.278883  \n",
       "min         3.500000            80.000000       0.000000  \n",
       "25%         4.800000           100.000000       0.000000  \n",
       "50%         5.800000           140.000000       0.000000  \n",
       "75%         6.200000           159.000000       0.000000  \n",
       "max         9.000000           300.000000       1.000000  "
      ]
     },
     "execution_count": 8,
     "metadata": {},
     "output_type": "execute_result"
    }
   ],
   "source": [
    "data.describe()"
   ]
  },
  {
   "cell_type": "markdown",
   "metadata": {
    "id": "2wLkkx-6FbDr"
   },
   "source": [
    "## Exploratory Data Analysis"
   ]
  },
  {
   "cell_type": "code",
   "execution_count": 9,
   "metadata": {
    "colab": {
     "base_uri": "https://localhost:8080/"
    },
    "executionInfo": {
     "elapsed": 32,
     "status": "ok",
     "timestamp": 1684127675611,
     "user": {
      "displayName": "Omar Hassan",
      "userId": "03184696695209264870"
     },
     "user_tz": -330
    },
    "id": "W1EoXkinFhym",
    "outputId": "f5ec47c8-fdc9-44a1-9328-ed77da7cca54"
   },
   "outputs": [
    {
     "data": {
      "text/plain": [
       "array(['Female', 'Male', 'Other'], dtype=object)"
      ]
     },
     "execution_count": 9,
     "metadata": {},
     "output_type": "execute_result"
    }
   ],
   "source": [
    "data['gender'].unique()"
   ]
  },
  {
   "cell_type": "code",
   "execution_count": 10,
   "metadata": {
    "colab": {
     "base_uri": "https://localhost:8080/",
     "height": 501
    },
    "executionInfo": {
     "elapsed": 26,
     "status": "ok",
     "timestamp": 1684127675611,
     "user": {
      "displayName": "Omar Hassan",
      "userId": "03184696695209264870"
     },
     "user_tz": -330
    },
    "id": "kh0_hjpzFrxj",
    "outputId": "9fabc544-7074-4937-b379-9898b9a528de"
   },
   "outputs": [
    {
     "data": {
      "text/plain": [
       "(array([5.8552e+04, 0.0000e+00, 0.0000e+00, 0.0000e+00, 0.0000e+00,\n",
       "        4.1430e+04, 0.0000e+00, 0.0000e+00, 0.0000e+00, 1.8000e+01]),\n",
       " array([0. , 0.2, 0.4, 0.6, 0.8, 1. , 1.2, 1.4, 1.6, 1.8, 2. ]),\n",
       " <BarContainer object of 10 artists>)"
      ]
     },
     "execution_count": 10,
     "metadata": {},
     "output_type": "execute_result"
    },
    {
     "data": {
      "image/png": "[encoded data removed]",
      "text/plain": [
       "<Figure size 640x480 with 1 Axes>"
      ]
     },
     "metadata": {},
     "output_type": "display_data"
    }
   ],
   "source": [
    "plt.hist(data['gender'])"
   ]
  },
  {
   "cell_type": "markdown",
   "metadata": {
    "id": "_k8801GcFy4u"
   },
   "source": [
    "It is seen that there are more females present than males in the dataset."
   ]
  },
  {
   "cell_type": "code",
   "execution_count": 11,
   "metadata": {
    "colab": {
     "base_uri": "https://localhost:8080/"
    },
    "executionInfo": {
     "elapsed": 23,
     "status": "ok",
     "timestamp": 1684127675612,
     "user": {
      "displayName": "Omar Hassan",
      "userId": "03184696695209264870"
     },
     "user_tz": -330
    },
    "id": "mkn27uzNF5Ef",
    "outputId": "9b68ce17-c1e0-415d-813e-2ca71426d1e6"
   },
   "outputs": [
    {
     "data": {
      "text/plain": [
       "array([0, 1])"
      ]
     },
     "execution_count": 11,
     "metadata": {},
     "output_type": "execute_result"
    }
   ],
   "source": [
    "data['diabetes'].unique()"
   ]
  },
  {
   "cell_type": "markdown",
   "metadata": {
    "id": "_mXFOhc2GFQ-"
   },
   "source": [
    "Label of 0 denotes absence of Diabetes.  \n",
    "Label of 1 denotes presence of Diabetes."
   ]
  },
  {
   "cell_type": "code",
   "execution_count": 12,
   "metadata": {
    "colab": {
     "base_uri": "https://localhost:8080/"
    },
    "executionInfo": {
     "elapsed": 21,
     "status": "ok",
     "timestamp": 1684127675612,
     "user": {
      "displayName": "Omar Hassan",
      "userId": "03184696695209264870"
     },
     "user_tz": -330
    },
    "id": "PL0j2WYqGD_G",
    "outputId": "90587a83-20a4-4047-a0e7-828df0e37200"
   },
   "outputs": [
    {
     "data": {
      "text/plain": [
       "Female    54091\n",
       "Male      37391\n",
       "Other        18\n",
       "Name: gender, dtype: int64"
      ]
     },
     "execution_count": 12,
     "metadata": {},
     "output_type": "execute_result"
    }
   ],
   "source": [
    "dbs=data.groupby('diabetes')\n",
    "dbs.get_group(0)['gender'].value_counts()"
   ]
  },
  {
   "cell_type": "code",
   "execution_count": 13,
   "metadata": {
    "colab": {
     "base_uri": "https://localhost:8080/"
    },
    "executionInfo": {
     "elapsed": 20,
     "status": "ok",
     "timestamp": 1684127675612,
     "user": {
      "displayName": "Omar Hassan",
      "userId": "03184696695209264870"
     },
     "user_tz": -330
    },
    "id": "Et37LL6wGtPD",
    "outputId": "cb45dbd3-4b7b-4568-ca12-a69f08657c0c"
   },
   "outputs": [
    {
     "data": {
      "text/plain": [
       "Female    4461\n",
       "Male      4039\n",
       "Name: gender, dtype: int64"
      ]
     },
     "execution_count": 13,
     "metadata": {},
     "output_type": "execute_result"
    }
   ],
   "source": [
    "dbs.get_group(1)['gender'].value_counts()"
   ]
  },
  {
   "cell_type": "markdown",
   "metadata": {
    "id": "xIE6iZAtHQpB"
   },
   "source": [
    "It is seen that females have a higher chance of getting Diabetes than males and others, but this might also be due to the higher presence of females in the dataset, a more accurate comparison can be made through proportions."
   ]
  },
  {
   "cell_type": "code",
   "execution_count": 14,
   "metadata": {
    "colab": {
     "base_uri": "https://localhost:8080/"
    },
    "executionInfo": {
     "elapsed": 19,
     "status": "ok",
     "timestamp": 1684127675613,
     "user": {
      "displayName": "Omar Hassan",
      "userId": "03184696695209264870"
     },
     "user_tz": -330
    },
    "id": "6Ol0UTJBHiVl",
    "outputId": "7eb2203e-bb9c-42b2-e986-4e41c848f8a9"
   },
   "outputs": [
    {
     "name": "stdout",
     "output_type": "stream",
     "text": [
      "Diabetes present in males:  9.748974173304369\n",
      "Diabetes absent in males:  90.25102582669562\n",
      "Diabetes present in females:  7.618868697909551\n",
      "Diabetes absent in females:  92.38113130209045\n"
     ]
    }
   ],
   "source": [
    "gen=data.groupby('gender')\n",
    "gen.get_group('Male')['diabetes'].value_counts()\n",
    "len(gen.get_group('Male'))\n",
    "print('Diabetes present in males: ',(gen.get_group('Male')['diabetes'].value_counts()[1]/len(gen.get_group('Male')))*100)\n",
    "print('Diabetes absent in males: ',(gen.get_group('Male')['diabetes'].value_counts()[0]/len(gen.get_group('Male')))*100)\n",
    "print('Diabetes present in females: ',(gen.get_group('Female')['diabetes'].value_counts()[1]/len(gen.get_group('Female')))*100)\n",
    "print('Diabetes absent in females: ',(gen.get_group('Female')['diabetes'].value_counts()[0]/len(gen.get_group('Female')))*100)"
   ]
  },
  {
   "cell_type": "markdown",
   "metadata": {
    "id": "zvZVclTbJNWs"
   },
   "source": [
    "Based on further analysis we can conclude that in fact males have a higher chance of getting diabetes than females."
   ]
  },
  {
   "cell_type": "markdown",
   "metadata": {
    "id": "1ynj1JaXJv-g"
   },
   "source": [
    "Since gender labeled 'other' have no balanced dataset representing the presence of diabetes in them, we are going to remove them from the dataset."
   ]
  },
  {
   "cell_type": "code",
   "execution_count": 15,
   "metadata": {
    "colab": {
     "base_uri": "https://localhost:8080/"
    },
    "executionInfo": {
     "elapsed": 17,
     "status": "ok",
     "timestamp": 1684127675613,
     "user": {
      "displayName": "Omar Hassan",
      "userId": "03184696695209264870"
     },
     "user_tz": -330
    },
    "id": "0UJHMo3PJ-AZ",
    "outputId": "c0acc49f-37aa-4266-ca24-d8ffb5b309f9"
   },
   "outputs": [
    {
     "data": {
      "text/plain": [
       "array(['Female', 'Male'], dtype=object)"
      ]
     },
     "execution_count": 15,
     "metadata": {},
     "output_type": "execute_result"
    }
   ],
   "source": [
    "data.drop(data[data['gender']=='Other'].index,inplace=True)\n",
    "data['gender'].unique()"
   ]
  },
  {
   "cell_type": "code",
   "execution_count": 16,
   "metadata": {
    "colab": {
     "base_uri": "https://localhost:8080/",
     "height": 519
    },
    "executionInfo": {
     "elapsed": 15,
     "status": "ok",
     "timestamp": 1684127675613,
     "user": {
      "displayName": "Omar Hassan",
      "userId": "03184696695209264870"
     },
     "user_tz": -330
    },
    "id": "7xGQ8T7VKu2D",
    "outputId": "06933a5b-1f9a-4a43-b4a0-c9605ff8ef68"
   },
   "outputs": [
    {
     "data": {
      "text/plain": [
       "(array([ 8980.,  7217.,  9679., 10366., 10618., 11666., 12133., 10755.,\n",
       "         7873., 10695.]),\n",
       " array([ 0.08 ,  8.072, 16.064, 24.056, 32.048, 40.04 , 48.032, 56.024,\n",
       "        64.016, 72.008, 80.   ]),\n",
       " <BarContainer object of 10 artists>)"
      ]
     },
     "execution_count": 16,
     "metadata": {},
     "output_type": "execute_result"
    },
    {
     "data": {
      "image/png": "[encoded data removed]",
      "text/plain": [
       "<Figure size 640x480 with 1 Axes>"
      ]
     },
     "metadata": {},
     "output_type": "display_data"
    }
   ],
   "source": [
    "plt.hist(data['age'])"
   ]
  },
  {
   "cell_type": "code",
   "execution_count": 17,
   "metadata": {
    "executionInfo": {
     "elapsed": 13,
     "status": "ok",
     "timestamp": 1684127675613,
     "user": {
      "displayName": "Omar Hassan",
      "userId": "03184696695209264870"
     },
     "user_tz": -330
    },
    "id": "b5z9my7VMAdU"
   },
   "outputs": [],
   "source": [
    "dbs=data.groupby('diabetes')"
   ]
  },
  {
   "cell_type": "code",
   "execution_count": 18,
   "metadata": {
    "colab": {
     "base_uri": "https://localhost:8080/",
     "height": 501
    },
    "executionInfo": {
     "elapsed": 14,
     "status": "ok",
     "timestamp": 1684127675614,
     "user": {
      "displayName": "Omar Hassan",
      "userId": "03184696695209264870"
     },
     "user_tz": -330
    },
    "id": "MAy59B0HLEC9",
    "outputId": "76ec0066-ca79-4433-c65c-f3f187aba2a6"
   },
   "outputs": [
    {
     "data": {
      "text/plain": [
       "(array([  29.,   63.,   96.,  214.,  443.,  864., 1205., 1788., 1674.,\n",
       "        2124.]),\n",
       " array([ 3. , 10.7, 18.4, 26.1, 33.8, 41.5, 49.2, 56.9, 64.6, 72.3, 80. ]),\n",
       " <BarContainer object of 10 artists>)"
      ]
     },
     "execution_count": 18,
     "metadata": {},
     "output_type": "execute_result"
    },
    {
     "data": {
      "image/png": "[encoded data removed]",
      "text/plain": [
       "<Figure size 640x480 with 1 Axes>"
      ]
     },
     "metadata": {},
     "output_type": "display_data"
    }
   ],
   "source": [
    "plt.hist(dbs.get_group(1)['age'])"
   ]
  },
  {
   "cell_type": "code",
   "execution_count": 19,
   "metadata": {
    "colab": {
     "base_uri": "https://localhost:8080/",
     "height": 519
    },
    "executionInfo": {
     "elapsed": 922,
     "status": "ok",
     "timestamp": 1684127676524,
     "user": {
      "displayName": "Omar Hassan",
      "userId": "03184696695209264870"
     },
     "user_tz": -330
    },
    "id": "M4mMad4eLZpj",
    "outputId": "196f5bd5-c93f-47c6-fcfd-849e71cee9e2"
   },
   "outputs": [
    {
     "data": {
      "text/plain": [
       "(array([ 8962.,  7161.,  9598., 10151., 10207., 10861., 10805.,  8967.,\n",
       "         6199.,  8571.]),\n",
       " array([ 0.08 ,  8.072, 16.064, 24.056, 32.048, 40.04 , 48.032, 56.024,\n",
       "        64.016, 72.008, 80.   ]),\n",
       " <BarContainer object of 10 artists>)"
      ]
     },
     "execution_count": 19,
     "metadata": {},
     "output_type": "execute_result"
    },
    {
     "data": {
      "image/png": "[encoded data removed]",
      "text/plain": [
       "<Figure size 640x480 with 1 Axes>"
      ]
     },
     "metadata": {},
     "output_type": "display_data"
    }
   ],
   "source": [
    "plt.hist(dbs.get_group(0)['age'])"
   ]
  },
  {
   "cell_type": "markdown",
   "metadata": {
    "id": "iDTo9JwJMW8n"
   },
   "source": [
    "We can conclude that the chance of getting diabetes increases with age."
   ]
  },
  {
   "cell_type": "code",
   "execution_count": 20,
   "metadata": {
    "colab": {
     "base_uri": "https://localhost:8080/"
    },
    "executionInfo": {
     "elapsed": 13,
     "status": "ok",
     "timestamp": 1684127676524,
     "user": {
      "displayName": "Omar Hassan",
      "userId": "03184696695209264870"
     },
     "user_tz": -330
    },
    "id": "tb2iUzQZMenz",
    "outputId": "b71b617c-edab-481f-bb85-146aa563d9fb"
   },
   "outputs": [
    {
     "name": "stdout",
     "output_type": "stream",
     "text": [
      "Diabetes and Hypertension present:  27.895791583166336\n",
      "Diabetes present and Hypertension absent:  6.932116717298939\n",
      "Diabetes absent and Hypertension present:  72.10420841683367\n",
      "Diabetes and Hypertension absent:  93.06788328270106\n"
     ]
    }
   ],
   "source": [
    "hyp=data.groupby('hypertension')\n",
    "print('Diabetes and Hypertension present: ',(hyp.get_group(1)['diabetes'].value_counts()[1]/len(hyp.get_group(1)))*100)\n",
    "print('Diabetes present and Hypertension absent: ',(hyp.get_group(0)['diabetes'].value_counts()[1]/len(hyp.get_group(0)))*100)\n",
    "print('Diabetes absent and Hypertension present: ',(hyp.get_group(1)['diabetes'].value_counts()[0]/len(hyp.get_group(1)))*100)\n",
    "print('Diabetes and Hypertension absent: ',(hyp.get_group(0)['diabetes'].value_counts()[0]/len(hyp.get_group(0)))*100)"
   ]
  },
  {
   "cell_type": "code",
   "execution_count": 21,
   "metadata": {
    "colab": {
     "base_uri": "https://localhost:8080/",
     "height": 501
    },
    "executionInfo": {
     "elapsed": 12,
     "status": "ok",
     "timestamp": 1684127676524,
     "user": {
      "displayName": "Omar Hassan",
      "userId": "03184696695209264870"
     },
     "user_tz": -330
    },
    "id": "B7Atp3JxOzZn",
    "outputId": "886b35e5-9774-4958-f688-22269371823e"
   },
   "outputs": [
    {
     "data": {
      "text/plain": [
       "(array([5397.,    0.,    0.,    0.,    0.,    0.,    0.,    0.,    0.,\n",
       "        2088.]),\n",
       " array([0. , 0.1, 0.2, 0.3, 0.4, 0.5, 0.6, 0.7, 0.8, 0.9, 1. ]),\n",
       " <BarContainer object of 10 artists>)"
      ]
     },
     "execution_count": 21,
     "metadata": {},
     "output_type": "execute_result"
    },
    {
     "data": {
      "image/png": "[encoded data removed]",
      "text/plain": [
       "<Figure size 640x480 with 1 Axes>"
      ]
     },
     "metadata": {},
     "output_type": "display_data"
    }
   ],
   "source": [
    "plt.hist(hyp.get_group(1)['diabetes'])"
   ]
  },
  {
   "cell_type": "code",
   "execution_count": 22,
   "metadata": {
    "colab": {
     "base_uri": "https://localhost:8080/",
     "height": 501
    },
    "executionInfo": {
     "elapsed": 10,
     "status": "ok",
     "timestamp": 1684127676524,
     "user": {
      "displayName": "Omar Hassan",
      "userId": "03184696695209264870"
     },
     "user_tz": -330
    },
    "id": "nZKDbtjQPEp4",
    "outputId": "1583688d-795c-4208-c065-629baadc71eb"
   },
   "outputs": [
    {
     "data": {
      "text/plain": [
       "(array([86085.,     0.,     0.,     0.,     0.,     0.,     0.,     0.,\n",
       "            0.,  6412.]),\n",
       " array([0. , 0.1, 0.2, 0.3, 0.4, 0.5, 0.6, 0.7, 0.8, 0.9, 1. ]),\n",
       " <BarContainer object of 10 artists>)"
      ]
     },
     "execution_count": 22,
     "metadata": {},
     "output_type": "execute_result"
    },
    {
     "data": {
      "image/png": "[encoded data removed]",
      "text/plain": [
       "<Figure size 640x480 with 1 Axes>"
      ]
     },
     "metadata": {},
     "output_type": "display_data"
    }
   ],
   "source": [
    "plt.hist(hyp.get_group(0)['diabetes'])"
   ]
  },
  {
   "cell_type": "markdown",
   "metadata": {
    "id": "wHMJ70cxPKgk"
   },
   "source": [
    "It can be seen that the presence of hypertension doesn't necessarily cause diabetes, but it does increase the risk of getting it."
   ]
  },
  {
   "cell_type": "code",
   "execution_count": 23,
   "metadata": {
    "colab": {
     "base_uri": "https://localhost:8080/"
    },
    "executionInfo": {
     "elapsed": 10,
     "status": "ok",
     "timestamp": 1684127676524,
     "user": {
      "displayName": "Omar Hassan",
      "userId": "03184696695209264870"
     },
     "user_tz": -330
    },
    "id": "q3ePUq4APtiQ",
    "outputId": "a98307be-a2c2-4d6e-cbec-ee294eaaba9f"
   },
   "outputs": [
    {
     "name": "stdout",
     "output_type": "stream",
     "text": [
      "Diabetes and heart disease present:  32.141045154743786\n",
      "Diabetes present and heart disease absent:  7.5312369845897535\n",
      "Diabetes absent and heart disease present:  67.85895484525622\n",
      "Diabetes and heart disease absent:  92.46876301541025\n"
     ]
    }
   ],
   "source": [
    "heart=data.groupby('heart_disease')\n",
    "print('Diabetes and heart disease present: ',(heart.get_group(1)['diabetes'].value_counts()[1]/len(heart.get_group(1)))*100)\n",
    "print('Diabetes present and heart disease absent: ',(heart.get_group(0)['diabetes'].value_counts()[1]/len(heart.get_group(0)))*100)\n",
    "print('Diabetes absent and heart disease present: ',(heart.get_group(1)['diabetes'].value_counts()[0]/len(heart.get_group(1)))*100)\n",
    "print('Diabetes and heart disease absent: ',(heart.get_group(0)['diabetes'].value_counts()[0]/len(heart.get_group(0)))*100)"
   ]
  },
  {
   "cell_type": "markdown",
   "metadata": {
    "id": "MhWB5d0vQsLu"
   },
   "source": [
    "It can be seen that patients with heart disease do not necessarily cause diabetes, but it does increase the risk of getting it."
   ]
  },
  {
   "cell_type": "code",
   "execution_count": 24,
   "metadata": {
    "colab": {
     "base_uri": "https://localhost:8080/",
     "height": 501
    },
    "executionInfo": {
     "elapsed": 10,
     "status": "ok",
     "timestamp": 1684127676525,
     "user": {
      "displayName": "Omar Hassan",
      "userId": "03184696695209264870"
     },
     "user_tz": -330
    },
    "id": "2S7XRcH8Rzn8",
    "outputId": "5c0ba84e-7fa1-4725-e6ff-64dc58970d44"
   },
   "outputs": [
    {
     "data": {
      "text/plain": [
       "(array([35092.,     0., 35810.,     0.,  9286.,     0.,  9352.,     0.,\n",
       "         4003.,  6439.]),\n",
       " array([0. , 0.5, 1. , 1.5, 2. , 2.5, 3. , 3.5, 4. , 4.5, 5. ]),\n",
       " <BarContainer object of 10 artists>)"
      ]
     },
     "execution_count": 24,
     "metadata": {},
     "output_type": "execute_result"
    },
    {
     "data": {
      "image/png": "[encoded data removed]",
      "text/plain": [
       "<Figure size 640x480 with 1 Axes>"
      ]
     },
     "metadata": {},
     "output_type": "display_data"
    }
   ],
   "source": [
    "plt.hist(data['smoking_history'])"
   ]
  },
  {
   "cell_type": "code",
   "execution_count": 25,
   "metadata": {
    "executionInfo": {
     "elapsed": 9,
     "status": "ok",
     "timestamp": 1684127676525,
     "user": {
      "displayName": "Omar Hassan",
      "userId": "03184696695209264870"
     },
     "user_tz": -330
    },
    "id": "axl_6OzQTDLU"
   },
   "outputs": [],
   "source": [
    "smok=data.groupby('smoking_history')"
   ]
  },
  {
   "cell_type": "code",
   "execution_count": 26,
   "metadata": {
    "colab": {
     "base_uri": "https://localhost:8080/"
    },
    "executionInfo": {
     "elapsed": 9,
     "status": "ok",
     "timestamp": 1684127676525,
     "user": {
      "displayName": "Omar Hassan",
      "userId": "03184696695209264870"
     },
     "user_tz": -330
    },
    "id": "j3gWpWtbT_ov",
    "outputId": "d7936898-1c17-4247-d980-8895db1ebc00"
   },
   "outputs": [
    {
     "name": "stdout",
     "output_type": "stream",
     "text": [
      "Never and diabetes present:  9.534936737717999\n",
      "Never and diabetes absent:  90.465063262282\n",
      "No Info and diabetes present:  4.060318346830495\n",
      "No Info and diabetes absent:  95.9396816531695\n",
      "Current and diabetes present:  10.208916648718501\n",
      "Current and diabetes absent:  89.7910833512815\n",
      "Former and diabetes present:  17.001710863986315\n",
      "Former and diabetes absent:  82.9982891360137\n",
      "Ever and diabetes present:  11.791156632525606\n",
      "Ever and diabetes absent:  88.2088433674744\n",
      "Not Current and diabetes present:  10.715949681627581\n",
      "Not Current and diabetes absent:  89.28405031837242\n"
     ]
    }
   ],
   "source": [
    "print('Never and diabetes present: ',(smok.get_group('never')['diabetes'].value_counts()[1]/len(smok.get_group('never')))*100)\n",
    "print('Never and diabetes absent: ',(smok.get_group('never')['diabetes'].value_counts()[0]/len(smok.get_group('never')))*100)\n",
    "print('No Info and diabetes present: ',(smok.get_group('No Info')['diabetes'].value_counts()[1]/len(smok.get_group('No Info')))*100)\n",
    "print('No Info and diabetes absent: ',(smok.get_group('No Info')['diabetes'].value_counts()[0]/len(smok.get_group('No Info')))*100)\n",
    "print('Current and diabetes present: ',(smok.get_group('current')['diabetes'].value_counts()[1]/len(smok.get_group('current')))*100)\n",
    "print('Current and diabetes absent: ',(smok.get_group('current')['diabetes'].value_counts()[0]/len(smok.get_group('current')))*100)\n",
    "print('Former and diabetes present: ',(smok.get_group('former')['diabetes'].value_counts()[1]/len(smok.get_group('former')))*100)\n",
    "print('Former and diabetes absent: ',(smok.get_group('former')['diabetes'].value_counts()[0]/len(smok.get_group('former')))*100)\n",
    "print('Ever and diabetes present: ',(smok.get_group('ever')['diabetes'].value_counts()[1]/len(smok.get_group('ever')))*100)\n",
    "print('Ever and diabetes absent: ',(smok.get_group('ever')['diabetes'].value_counts()[0]/len(smok.get_group('ever')))*100)\n",
    "print('Not Current and diabetes present: ',(smok.get_group('not current')['diabetes'].value_counts()[1]/len(smok.get_group('not current')))*100)\n",
    "print('Not Current and diabetes absent: ',(smok.get_group('not current')['diabetes'].value_counts()[0]/len(smok.get_group('not current')))*100)"
   ]
  },
  {
   "cell_type": "markdown",
   "metadata": {
    "id": "vYva1LpsVfWT"
   },
   "source": [
    "Among different types of smokers it is seen that former smokers have a higher chance of getting diabetes, but smoking patterns do not necessarily cause diabetes."
   ]
  },
  {
   "cell_type": "code",
   "execution_count": 27,
   "metadata": {
    "colab": {
     "base_uri": "https://localhost:8080/",
     "height": 519
    },
    "executionInfo": {
     "elapsed": 659,
     "status": "ok",
     "timestamp": 1684127677176,
     "user": {
      "displayName": "Omar Hassan",
      "userId": "03184696695209264870"
     },
     "user_tz": -330
    },
    "id": "fzl95qK0Vz7T",
    "outputId": "7a87d5f9-fdfc-469f-d892-805dcdcb1fad"
   },
   "outputs": [
    {
     "data": {
      "text/plain": [
       "(array([7.000e+01, 1.330e+03, 4.480e+03, 1.752e+03, 6.320e+02, 1.700e+02,\n",
       "        5.200e+01, 1.000e+01, 1.000e+00, 3.000e+00]),\n",
       " array([10.98 , 18.754, 26.528, 34.302, 42.076, 49.85 , 57.624, 65.398,\n",
       "        73.172, 80.946, 88.72 ]),\n",
       " <BarContainer object of 10 artists>)"
      ]
     },
     "execution_count": 27,
     "metadata": {},
     "output_type": "execute_result"
    },
    {
     "data": {
      "image/png": "[encoded data removed]",
      "text/plain": [
       "<Figure size 640x480 with 1 Axes>"
      ]
     },
     "metadata": {},
     "output_type": "display_data"
    }
   ],
   "source": [
    "plt.hist(dbs.get_group(1)['bmi'])"
   ]
  },
  {
   "cell_type": "code",
   "execution_count": 28,
   "metadata": {
    "colab": {
     "base_uri": "https://localhost:8080/",
     "height": 519
    },
    "executionInfo": {
     "elapsed": 13,
     "status": "ok",
     "timestamp": 1684127677176,
     "user": {
      "displayName": "Omar Hassan",
      "userId": "03184696695209264870"
     },
     "user_tz": -330
    },
    "id": "73HuxXpLWCLw",
    "outputId": "8fbed81c-b18d-4dde-ba4e-0d162a07eab3"
   },
   "outputs": [
    {
     "data": {
      "text/plain": [
       "(array([8.5880e+03, 2.9835e+04, 4.5668e+04, 5.8100e+03, 1.2590e+03,\n",
       "        2.5900e+02, 5.0000e+01, 6.0000e+00, 1.0000e+00, 6.0000e+00]),\n",
       " array([10.01 , 18.578, 27.146, 35.714, 44.282, 52.85 , 61.418, 69.986,\n",
       "        78.554, 87.122, 95.69 ]),\n",
       " <BarContainer object of 10 artists>)"
      ]
     },
     "execution_count": 28,
     "metadata": {},
     "output_type": "execute_result"
    },
    {
     "data": {
      "image/png": "[encoded data removed]",
      "text/plain": [
       "<Figure size 640x480 with 1 Axes>"
      ]
     },
     "metadata": {},
     "output_type": "display_data"
    }
   ],
   "source": [
    "plt.hist(dbs.get_group(0)['bmi'])"
   ]
  },
  {
   "cell_type": "markdown",
   "metadata": {
    "id": "Vvqs1xyaWR1e"
   },
   "source": [
    "Higher bmi increase the chance of getting diabetes"
   ]
  },
  {
   "cell_type": "code",
   "execution_count": 29,
   "metadata": {
    "colab": {
     "base_uri": "https://localhost:8080/",
     "height": 501
    },
    "executionInfo": {
     "elapsed": 12,
     "status": "ok",
     "timestamp": 1684127677177,
     "user": {
      "displayName": "Omar Hassan",
      "userId": "03184696695209264870"
     },
     "user_tz": -330
    },
    "id": "msaVDGtZWar8",
    "outputId": "70a5930a-8b09-4b99-fbde-711343990dff"
   },
   "outputs": [
    {
     "data": {
      "text/plain": [
       "(array([2010., 1299., 1296., 1276.,    0.,  643.,    0.,  661.,    0.,\n",
       "        1315.]),\n",
       " array([5.7 , 6.03, 6.36, 6.69, 7.02, 7.35, 7.68, 8.01, 8.34, 8.67, 9.  ]),\n",
       " <BarContainer object of 10 artists>)"
      ]
     },
     "execution_count": 29,
     "metadata": {},
     "output_type": "execute_result"
    },
    {
     "data": {
      "image/png": "[encoded data removed]",
      "text/plain": [
       "<Figure size 640x480 with 1 Axes>"
      ]
     },
     "metadata": {},
     "output_type": "display_data"
    }
   ],
   "source": [
    "plt.hist(dbs.get_group(1)['HbA1c_level'])"
   ]
  },
  {
   "cell_type": "code",
   "execution_count": 30,
   "metadata": {
    "colab": {
     "base_uri": "https://localhost:8080/",
     "height": 501
    },
    "executionInfo": {
     "elapsed": 10,
     "status": "ok",
     "timestamp": 1684127677177,
     "user": {
      "displayName": "Omar Hassan",
      "userId": "03184696695209264870"
     },
     "user_tz": -330
    },
    "id": "Isdl50hRWvUE",
    "outputId": "9c97cb52-3d88-4cc2-e52a-53093445770e"
   },
   "outputs": [
    {
     "data": {
      "text/plain": [
       "(array([ 7659.,  7541.,     0.,  7584., 15066.,     0.,     0., 15370.,\n",
       "        22659., 15603.]),\n",
       " array([3.5 , 3.81, 4.12, 4.43, 4.74, 5.05, 5.36, 5.67, 5.98, 6.29, 6.6 ]),\n",
       " <BarContainer object of 10 artists>)"
      ]
     },
     "execution_count": 30,
     "metadata": {},
     "output_type": "execute_result"
    },
    {
     "data": {
      "image/png": "[encoded data removed]",
      "text/plain": [
       "<Figure size 640x480 with 1 Axes>"
      ]
     },
     "metadata": {},
     "output_type": "display_data"
    }
   ],
   "source": [
    "plt.hist(dbs.get_group(0)['HbA1c_level'])"
   ]
  },
  {
   "cell_type": "markdown",
   "metadata": {
    "id": "aD0QgUO_W1cZ"
   },
   "source": [
    "Higher HbA1c_level indicate higher chances of being diabetic whereas lower HbA1c_level indicates lower chances of being diabetic."
   ]
  },
  {
   "cell_type": "code",
   "execution_count": 31,
   "metadata": {
    "colab": {
     "base_uri": "https://localhost:8080/",
     "height": 519
    },
    "executionInfo": {
     "elapsed": 531,
     "status": "ok",
     "timestamp": 1684127677700,
     "user": {
      "displayName": "Omar Hassan",
      "userId": "03184696695209264870"
     },
     "user_tz": -330
    },
    "id": "J9NiMv8jXOn5",
    "outputId": "f9a469ce-09ea-4d43-9a75-48c2050b8d26"
   },
   "outputs": [
    {
     "data": {
      "text/plain": [
       "(array([1953., 2623.,    0.,    0.,  647.,  603.,  636.,  635.,  729.,\n",
       "         674.]),\n",
       " array([126. , 143.4, 160.8, 178.2, 195.6, 213. , 230.4, 247.8, 265.2,\n",
       "        282.6, 300. ]),\n",
       " <BarContainer object of 10 artists>)"
      ]
     },
     "execution_count": 31,
     "metadata": {},
     "output_type": "execute_result"
    },
    {
     "data": {
      "image/png": "[encoded data removed]",
      "text/plain": [
       "<Figure size 640x480 with 1 Axes>"
      ]
     },
     "metadata": {},
     "output_type": "display_data"
    }
   ],
   "source": [
    "plt.hist(dbs.get_group(1)['blood_glucose_level'])"
   ]
  },
  {
   "cell_type": "code",
   "execution_count": 32,
   "metadata": {
    "colab": {
     "base_uri": "https://localhost:8080/",
     "height": 501
    },
    "executionInfo": {
     "elapsed": 5,
     "status": "ok",
     "timestamp": 1684127677700,
     "user": {
      "displayName": "Omar Hassan",
      "userId": "03184696695209264870"
     },
     "user_tz": -330
    },
    "id": "VdEvn6J4XZYm",
    "outputId": "954bfd4b-253f-4137-f2f0-05cebcd67403"
   },
   "outputs": [
    {
     "data": {
      "text/plain": [
       "(array([21115.,  7025.,     0.,  7064.,  7102., 14122., 28102.,     0.,\n",
       "            0.,  6952.]),\n",
       " array([ 80.,  92., 104., 116., 128., 140., 152., 164., 176., 188., 200.]),\n",
       " <BarContainer object of 10 artists>)"
      ]
     },
     "execution_count": 32,
     "metadata": {},
     "output_type": "execute_result"
    },
    {
     "data": {
      "image/png": "[encoded data removed]",
      "text/plain": [
       "<Figure size 640x480 with 1 Axes>"
      ]
     },
     "metadata": {},
     "output_type": "display_data"
    }
   ],
   "source": [
    "plt.hist(dbs.get_group(0)['blood_glucose_level'])"
   ]
  },
  {
   "cell_type": "markdown",
   "metadata": {
    "id": "UIuGPV8xXmIC"
   },
   "source": [
    "Higher Blood Glucose levels increase the risk of getting diabetes."
   ]
  },
  {
   "cell_type": "markdown",
   "metadata": {
    "id": "t6UA0WRDXzVC"
   },
   "source": [
    "## Conclusion\n",
    " Through the dataset it is seen that: \n",
    " Males have a higher chance of getting diabetes than females.  \n",
    " Hypertension and heart diseases increases the risk of diabetes but doesnt necessarily cause diabetes.  \n",
    "The chance of getting diabetes increases with age.  \n",
    "Smoking patterns do not necessarily cause diabetes, but certain patterns increase the risk of getting diabetes.  \n",
    "Increase in BMI leads to an increase in risk of getting diabetes.  \n",
    "Increase in HbA1c levels increase the chance of getting diabetes.  \n",
    "Increase in Blood Glucose levels increase the chance of getting diabetes."
   ]
  },
  {
   "cell_type": "markdown",
   "metadata": {
    "id": "N9hQ0SYSY1J1"
   },
   "source": [
    "## Model Selection"
   ]
  },
  {
   "cell_type": "code",
   "execution_count": 33,
   "metadata": {
    "executionInfo": {
     "elapsed": 1129,
     "status": "ok",
     "timestamp": 1684127678826,
     "user": {
      "displayName": "Omar Hassan",
      "userId": "03184696695209264870"
     },
     "user_tz": -330
    },
    "id": "WCtGgBzHY4UZ"
   },
   "outputs": [],
   "source": [
    "from sklearn.svm import SVC\n",
    "from sklearn.model_selection import train_test_split,GridSearchCV\n",
    "from sklearn.metrics import accuracy_score\n",
    "from sklearn.preprocessing import StandardScaler"
   ]
  },
  {
   "cell_type": "code",
   "execution_count": 34,
   "metadata": {
    "executionInfo": {
     "elapsed": 4,
     "status": "ok",
     "timestamp": 1684127678826,
     "user": {
      "displayName": "Omar Hassan",
      "userId": "03184696695209264870"
     },
     "user_tz": -330
    },
    "id": "fQ5tCFqkbgFr"
   },
   "outputs": [],
   "source": [
    "x=data.drop(['diabetes'],axis=1).copy()\n",
    "y=data['diabetes'].copy()"
   ]
  },
  {
   "cell_type": "code",
   "execution_count": 35,
   "metadata": {
    "colab": {
     "base_uri": "https://localhost:8080/"
    },
    "executionInfo": {
     "elapsed": 895,
     "status": "ok",
     "timestamp": 1684127679718,
     "user": {
      "displayName": "Omar Hassan",
      "userId": "03184696695209264870"
     },
     "user_tz": -330
    },
    "id": "PwieQhH6cGKh",
    "outputId": "65ef0674-cb09-496e-d0d9-2ea3574a54f7"
   },
   "outputs": [
    {
     "data": {
      "text/plain": [
       "gender                  object\n",
       "age                    float64\n",
       "hypertension             int64\n",
       "heart_disease            int64\n",
       "smoking_history         object\n",
       "bmi                    float64\n",
       "HbA1c_level            float64\n",
       "blood_glucose_level      int64\n",
       "dtype: object"
      ]
     },
     "execution_count": 35,
     "metadata": {},
     "output_type": "execute_result"
    }
   ],
   "source": [
    "x.dtypes"
   ]
  },
  {
   "cell_type": "code",
   "execution_count": 36,
   "metadata": {
    "colab": {
     "base_uri": "https://localhost:8080/"
    },
    "executionInfo": {
     "elapsed": 895,
     "status": "ok",
     "timestamp": 1684127679719,
     "user": {
      "displayName": "Omar Hassan",
      "userId": "03184696695209264870"
     },
     "user_tz": -330
    },
    "id": "nrorhqxmcLkQ",
    "outputId": "de9a1af5-ee6e-44b3-f52b-f41ea680e681"
   },
   "outputs": [
    {
     "name": "stdout",
     "output_type": "stream",
     "text": [
      "['gender', 'smoking_history']\n",
      "['age', 'hypertension', 'heart_disease', 'bmi', 'HbA1c_level', 'blood_glucose_level']\n"
     ]
    }
   ],
   "source": [
    "cat=[i for i in x.columns if x[i].dtype==object]\n",
    "metric=[i for i in x.columns if x[i].dtype!=object]\n",
    "print(cat)\n",
    "print(metric)"
   ]
  },
  {
   "cell_type": "code",
   "execution_count": 37,
   "metadata": {
    "colab": {
     "base_uri": "https://localhost:8080/",
     "height": 288
    },
    "executionInfo": {
     "elapsed": 9,
     "status": "ok",
     "timestamp": 1684127679719,
     "user": {
      "displayName": "Omar Hassan",
      "userId": "03184696695209264870"
     },
     "user_tz": -330
    },
    "id": "Yu3EPjxAjeyR",
    "outputId": "aa53061a-a3c0-46f0-c6ad-75b5d6ca7a3d"
   },
   "outputs": [
    {
     "data": {
      "text/html": [
       "\n",
       "  <div id=\"df-1487ed6d-d520-4d94-9e96-b4797b337762\">\n",
       "    <div class=\"colab-df-container\">\n",
       "      <div>\n",
       "<style scoped>\n",
       "    .dataframe tbody tr th:only-of-type {\n",
       "        vertical-align: middle;\n",
       "    }\n",
       "\n",
       "    .dataframe tbody tr th {\n",
       "        vertical-align: top;\n",
       "    }\n",
       "\n",
       "    .dataframe thead th {\n",
       "        text-align: right;\n",
       "    }\n",
       "</style>\n",
       "<table border=\"1\" class=\"dataframe\">\n",
       "  <thead>\n",
       "    <tr style=\"text-align: right;\">\n",
       "      <th></th>\n",
       "      <th>age</th>\n",
       "      <th>hypertension</th>\n",
       "      <th>heart_disease</th>\n",
       "      <th>bmi</th>\n",
       "      <th>HbA1c_level</th>\n",
       "      <th>blood_glucose_level</th>\n",
       "      <th>gender_Male</th>\n",
       "      <th>smoking_history_current</th>\n",
       "      <th>smoking_history_ever</th>\n",
       "      <th>smoking_history_former</th>\n",
       "      <th>smoking_history_never</th>\n",
       "      <th>smoking_history_not current</th>\n",
       "    </tr>\n",
       "  </thead>\n",
       "  <tbody>\n",
       "    <tr>\n",
       "      <th>0</th>\n",
       "      <td>80.0</td>\n",
       "      <td>0</td>\n",
       "      <td>1</td>\n",
       "      <td>25.19</td>\n",
       "      <td>6.6</td>\n",
       "      <td>140</td>\n",
       "      <td>0</td>\n",
       "      <td>0</td>\n",
       "      <td>0</td>\n",
       "      <td>0</td>\n",
       "      <td>1</td>\n",
       "      <td>0</td>\n",
       "    </tr>\n",
       "    <tr>\n",
       "      <th>1</th>\n",
       "      <td>54.0</td>\n",
       "      <td>0</td>\n",
       "      <td>0</td>\n",
       "      <td>27.32</td>\n",
       "      <td>6.6</td>\n",
       "      <td>80</td>\n",
       "      <td>0</td>\n",
       "      <td>0</td>\n",
       "      <td>0</td>\n",
       "      <td>0</td>\n",
       "      <td>0</td>\n",
       "      <td>0</td>\n",
       "    </tr>\n",
       "    <tr>\n",
       "      <th>2</th>\n",
       "      <td>28.0</td>\n",
       "      <td>0</td>\n",
       "      <td>0</td>\n",
       "      <td>27.32</td>\n",
       "      <td>5.7</td>\n",
       "      <td>158</td>\n",
       "      <td>1</td>\n",
       "      <td>0</td>\n",
       "      <td>0</td>\n",
       "      <td>0</td>\n",
       "      <td>1</td>\n",
       "      <td>0</td>\n",
       "    </tr>\n",
       "    <tr>\n",
       "      <th>3</th>\n",
       "      <td>36.0</td>\n",
       "      <td>0</td>\n",
       "      <td>0</td>\n",
       "      <td>23.45</td>\n",
       "      <td>5.0</td>\n",
       "      <td>155</td>\n",
       "      <td>0</td>\n",
       "      <td>1</td>\n",
       "      <td>0</td>\n",
       "      <td>0</td>\n",
       "      <td>0</td>\n",
       "      <td>0</td>\n",
       "    </tr>\n",
       "    <tr>\n",
       "      <th>4</th>\n",
       "      <td>76.0</td>\n",
       "      <td>1</td>\n",
       "      <td>1</td>\n",
       "      <td>20.14</td>\n",
       "      <td>4.8</td>\n",
       "      <td>155</td>\n",
       "      <td>1</td>\n",
       "      <td>1</td>\n",
       "      <td>0</td>\n",
       "      <td>0</td>\n",
       "      <td>0</td>\n",
       "      <td>0</td>\n",
       "    </tr>\n",
       "  </tbody>\n",
       "</table>\n",
       "</div>\n",
       "      <button class=\"colab-df-convert\" onclick=\"convertToInteractive('df-1487ed6d-d520-4d94-9e96-b4797b337762')\"\n",
       "              title=\"Convert this dataframe to an interactive table.\"\n",
       "              style=\"display:none;\">\n",
       "        \n",
       "  <svg xmlns=\"http://www.w3.org/2000/svg\" height=\"24px\"viewBox=\"0 0 24 24\"\n",
       "       width=\"24px\">\n",
       "    <path d=\"M0 0h24v24H0V0z\" fill=\"none\"/>\n",
       "    <path d=\"M18.56 5.44l.94 2.06.94-2.06 2.06-.94-2.06-.94-.94-2.06-.94 2.06-2.06.94zm-11 1L8.5 8.5l.94-2.06 2.06-.94-2.06-.94L8.5 2.5l-.94 2.06-2.06.94zm10 10l.94 2.06.94-2.06 2.06-.94-2.06-.94-.94-2.06-.94 2.06-2.06.94z\"/><path d=\"M17.41 7.96l-1.37-1.37c-.4-.4-.92-.59-1.43-.59-.52 0-1.04.2-1.43.59L10.3 9.45l-7.72 7.72c-.78.78-.78 2.05 0 2.83L4 21.41c.39.39.9.59 1.41.59.51 0 1.02-.2 1.41-.59l7.78-7.78 2.81-2.81c.8-.78.8-2.07 0-2.86zM5.41 20L4 18.59l7.72-7.72 1.47 1.35L5.41 20z\"/>\n",
       "  </svg>\n",
       "      </button>\n",
       "      \n",
       "  <style>\n",
       "    .colab-df-container {\n",
       "      display:flex;\n",
       "      flex-wrap:wrap;\n",
       "      gap: 12px;\n",
       "    }\n",
       "\n",
       "    .colab-df-convert {\n",
       "      background-color: #E8F0FE;\n",
       "      border: none;\n",
       "      border-radius: 50%;\n",
       "      cursor: pointer;\n",
       "      display: none;\n",
       "      fill: #1967D2;\n",
       "      height: 32px;\n",
       "      padding: 0 0 0 0;\n",
       "      width: 32px;\n",
       "    }\n",
       "\n",
       "    .colab-df-convert:hover {\n",
       "      background-color: #E2EBFA;\n",
       "      box-shadow: 0px 1px 2px rgba(60, 64, 67, 0.3), 0px 1px 3px 1px rgba(60, 64, 67, 0.15);\n",
       "      fill: #174EA6;\n",
       "    }\n",
       "\n",
       "    [theme=dark] .colab-df-convert {\n",
       "      background-color: #3B4455;\n",
       "      fill: #D2E3FC;\n",
       "    }\n",
       "\n",
       "    [theme=dark] .colab-df-convert:hover {\n",
       "      background-color: #434B5C;\n",
       "      box-shadow: 0px 1px 3px 1px rgba(0, 0, 0, 0.15);\n",
       "      filter: drop-shadow(0px 1px 2px rgba(0, 0, 0, 0.3));\n",
       "      fill: #FFFFFF;\n",
       "    }\n",
       "  </style>\n",
       "\n",
       "      <script>\n",
       "        const buttonEl =\n",
       "          document.querySelector('#df-1487ed6d-d520-4d94-9e96-b4797b337762 button.colab-df-convert');\n",
       "        buttonEl.style.display =\n",
       "          google.colab.kernel.accessAllowed ? 'block' : 'none';\n",
       "\n",
       "        async function convertToInteractive(key) {\n",
       "          const element = document.querySelector('#df-1487ed6d-d520-4d94-9e96-b4797b337762');\n",
       "          const dataTable =\n",
       "            await google.colab.kernel.invokeFunction('convertToInteractive',\n",
       "                                                     [key], {});\n",
       "          if (!dataTable) return;\n",
       "\n",
       "          const docLinkHtml = 'Like what you see? Visit the ' +\n",
       "            '<a target=\"_blank\" href=https://colab.research.google.com/notebooks/data_table.ipynb>data table notebook</a>'\n",
       "            + ' to learn more about interactive tables.';\n",
       "          element.innerHTML = '';\n",
       "          dataTable['output_type'] = 'display_data';\n",
       "          await google.colab.output.renderOutput(dataTable, element);\n",
       "          const docLink = document.createElement('div');\n",
       "          docLink.innerHTML = docLinkHtml;\n",
       "          element.appendChild(docLink);\n",
       "        }\n",
       "      </script>\n",
       "    </div>\n",
       "  </div>\n",
       "  "
      ],
      "text/plain": [
       "    age  hypertension  heart_disease    bmi  HbA1c_level  blood_glucose_level  \\\n",
       "0  80.0             0              1  25.19          6.6                  140   \n",
       "1  54.0             0              0  27.32          6.6                   80   \n",
       "2  28.0             0              0  27.32          5.7                  158   \n",
       "3  36.0             0              0  23.45          5.0                  155   \n",
       "4  76.0             1              1  20.14          4.8                  155   \n",
       "\n",
       "   gender_Male  smoking_history_current  smoking_history_ever  \\\n",
       "0            0                        0                     0   \n",
       "1            0                        0                     0   \n",
       "2            1                        0                     0   \n",
       "3            0                        1                     0   \n",
       "4            1                        1                     0   \n",
       "\n",
       "   smoking_history_former  smoking_history_never  smoking_history_not current  \n",
       "0                       0                      1                            0  \n",
       "1                       0                      0                            0  \n",
       "2                       0                      1                            0  \n",
       "3                       0                      0                            0  \n",
       "4                       0                      0                            0  "
      ]
     },
     "execution_count": 37,
     "metadata": {},
     "output_type": "execute_result"
    }
   ],
   "source": [
    "x_conv=pd.concat([x[metric],pd.get_dummies(x[cat],drop_first=True)],axis=1)\n",
    "x_conv.head()"
   ]
  },
  {
   "cell_type": "code",
   "execution_count": 38,
   "metadata": {
    "colab": {
     "base_uri": "https://localhost:8080/"
    },
    "executionInfo": {
     "elapsed": 8,
     "status": "ok",
     "timestamp": 1684127679719,
     "user": {
      "displayName": "Omar Hassan",
      "userId": "03184696695209264870"
     },
     "user_tz": -330
    },
    "id": "HQo8WQRMklxj",
    "outputId": "81c3d7f8-d9df-41df-b4e0-686c8d905e55"
   },
   "outputs": [
    {
     "name": "stdout",
     "output_type": "stream",
     "text": [
      "['gender_Male', 'smoking_history_current', 'smoking_history_ever', 'smoking_history_former', 'smoking_history_never', 'smoking_history_not current']\n"
     ]
    }
   ],
   "source": [
    "dummy=[i for i in x_conv.columns if i not in metric]\n",
    "print(dummy)"
   ]
  },
  {
   "cell_type": "code",
   "execution_count": 39,
   "metadata": {
    "executionInfo": {
     "elapsed": 7,
     "status": "ok",
     "timestamp": 1684127679719,
     "user": {
      "displayName": "Omar Hassan",
      "userId": "03184696695209264870"
     },
     "user_tz": -330
    },
    "id": "C46iJDfweJai"
   },
   "outputs": [],
   "source": [
    "x_train,x_test,y_train,y_test=train_test_split(x_conv,y,random_state=0)"
   ]
  },
  {
   "cell_type": "code",
   "execution_count": 40,
   "metadata": {
    "colab": {
     "base_uri": "https://localhost:8080/",
     "height": 75
    },
    "executionInfo": {
     "elapsed": 7,
     "status": "ok",
     "timestamp": 1684127679720,
     "user": {
      "displayName": "Omar Hassan",
      "userId": "03184696695209264870"
     },
     "user_tz": -330
    },
    "id": "Y49TXZqyeVD3",
    "outputId": "7c0e56e4-3f61-4a2d-f2f0-0910620149bd"
   },
   "outputs": [
    {
     "data": {
      "text/html": [
       "<style>#sk-container-id-1 {color: black;background-color: white;}#sk-container-id-1 pre{padding: 0;}#sk-container-id-1 div.sk-toggleable {background-color: white;}#sk-container-id-1 label.sk-toggleable__label {cursor: pointer;display: block;width: 100%;margin-bottom: 0;padding: 0.3em;box-sizing: border-box;text-align: center;}#sk-container-id-1 label.sk-toggleable__label-arrow:before {content: \"▸\";float: left;margin-right: 0.25em;color: #696969;}#sk-container-id-1 label.sk-toggleable__label-arrow:hover:before {color: black;}#sk-container-id-1 div.sk-estimator:hover label.sk-toggleable__label-arrow:before {color: black;}#sk-container-id-1 div.sk-toggleable__content {max-height: 0;max-width: 0;overflow: hidden;text-align: left;background-color: #f0f8ff;}#sk-container-id-1 div.sk-toggleable__content pre {margin: 0.2em;color: black;border-radius: 0.25em;background-color: #f0f8ff;}#sk-container-id-1 input.sk-toggleable__control:checked~div.sk-toggleable__content {max-height: 200px;max-width: 100%;overflow: auto;}#sk-container-id-1 input.sk-toggleable__control:checked~label.sk-toggleable__label-arrow:before {content: \"▾\";}#sk-container-id-1 div.sk-estimator input.sk-toggleable__control:checked~label.sk-toggleable__label {background-color: #d4ebff;}#sk-container-id-1 div.sk-label input.sk-toggleable__control:checked~label.sk-toggleable__label {background-color: #d4ebff;}#sk-container-id-1 input.sk-hidden--visually {border: 0;clip: rect(1px 1px 1px 1px);clip: rect(1px, 1px, 1px, 1px);height: 1px;margin: -1px;overflow: hidden;padding: 0;position: absolute;width: 1px;}#sk-container-id-1 div.sk-estimator {font-family: monospace;background-color: #f0f8ff;border: 1px dotted black;border-radius: 0.25em;box-sizing: border-box;margin-bottom: 0.5em;}#sk-container-id-1 div.sk-estimator:hover {background-color: #d4ebff;}#sk-container-id-1 div.sk-parallel-item::after {content: \"\";width: 100%;border-bottom: 1px solid gray;flex-grow: 1;}#sk-container-id-1 div.sk-label:hover label.sk-toggleable__label {background-color: #d4ebff;}#sk-container-id-1 div.sk-serial::before {content: \"\";position: absolute;border-left: 1px solid gray;box-sizing: border-box;top: 0;bottom: 0;left: 50%;z-index: 0;}#sk-container-id-1 div.sk-serial {display: flex;flex-direction: column;align-items: center;background-color: white;padding-right: 0.2em;padding-left: 0.2em;position: relative;}#sk-container-id-1 div.sk-item {position: relative;z-index: 1;}#sk-container-id-1 div.sk-parallel {display: flex;align-items: stretch;justify-content: center;background-color: white;position: relative;}#sk-container-id-1 div.sk-item::before, #sk-container-id-1 div.sk-parallel-item::before {content: \"\";position: absolute;border-left: 1px solid gray;box-sizing: border-box;top: 0;bottom: 0;left: 50%;z-index: -1;}#sk-container-id-1 div.sk-parallel-item {display: flex;flex-direction: column;z-index: 1;position: relative;background-color: white;}#sk-container-id-1 div.sk-parallel-item:first-child::after {align-self: flex-end;width: 50%;}#sk-container-id-1 div.sk-parallel-item:last-child::after {align-self: flex-start;width: 50%;}#sk-container-id-1 div.sk-parallel-item:only-child::after {width: 0;}#sk-container-id-1 div.sk-dashed-wrapped {border: 1px dashed gray;margin: 0 0.4em 0.5em 0.4em;box-sizing: border-box;padding-bottom: 0.4em;background-color: white;}#sk-container-id-1 div.sk-label label {font-family: monospace;font-weight: bold;display: inline-block;line-height: 1.2em;}#sk-container-id-1 div.sk-label-container {text-align: center;}#sk-container-id-1 div.sk-container {/* jupyter's `normalize.less` sets `[hidden] { display: none; }` but bootstrap.min.css set `[hidden] { display: none !important; }` so we also need the `!important` here to be able to override the default hidden behavior on the sphinx rendered scikit-learn.org. See: https://github.com/scikit-learn/scikit-learn/issues/21755 */display: inline-block !important;position: relative;}#sk-container-id-1 div.sk-text-repr-fallback {display: none;}</style><div id=\"sk-container-id-1\" class=\"sk-top-container\"><div class=\"sk-text-repr-fallback\"><pre>StandardScaler()</pre><b>In a Jupyter environment, please rerun this cell to show the HTML representation or trust the notebook. <br />On GitHub, the HTML representation is unable to render, please try loading this page with nbviewer.org.</b></div><div class=\"sk-container\" hidden><div class=\"sk-item\"><div class=\"sk-estimator sk-toggleable\"><input class=\"sk-toggleable__control sk-hidden--visually\" id=\"sk-estimator-id-1\" type=\"checkbox\" checked><label for=\"sk-estimator-id-1\" class=\"sk-toggleable__label sk-toggleable__label-arrow\">StandardScaler</label><div class=\"sk-toggleable__content\"><pre>StandardScaler()</pre></div></div></div></div></div>"
      ],
      "text/plain": [
       "StandardScaler()"
      ]
     },
     "execution_count": 40,
     "metadata": {},
     "output_type": "execute_result"
    }
   ],
   "source": [
    "scaler=StandardScaler()\n",
    "scaler.fit(x_train[metric])"
   ]
  },
  {
   "cell_type": "code",
   "execution_count": 41,
   "metadata": {
    "colab": {
     "base_uri": "https://localhost:8080/",
     "height": 288
    },
    "executionInfo": {
     "elapsed": 7,
     "status": "ok",
     "timestamp": 1684127679720,
     "user": {
      "displayName": "Omar Hassan",
      "userId": "03184696695209264870"
     },
     "user_tz": -330
    },
    "id": "OlQz-bQ4em72",
    "outputId": "47554f83-247d-4055-8433-393d000886e4"
   },
   "outputs": [
    {
     "data": {
      "text/html": [
       "\n",
       "  <div id=\"df-6d481b9e-1590-4421-960f-b8cc5b94369f\">\n",
       "    <div class=\"colab-df-container\">\n",
       "      <div>\n",
       "<style scoped>\n",
       "    .dataframe tbody tr th:only-of-type {\n",
       "        vertical-align: middle;\n",
       "    }\n",
       "\n",
       "    .dataframe tbody tr th {\n",
       "        vertical-align: top;\n",
       "    }\n",
       "\n",
       "    .dataframe thead th {\n",
       "        text-align: right;\n",
       "    }\n",
       "</style>\n",
       "<table border=\"1\" class=\"dataframe\">\n",
       "  <thead>\n",
       "    <tr style=\"text-align: right;\">\n",
       "      <th></th>\n",
       "      <th>age</th>\n",
       "      <th>hypertension</th>\n",
       "      <th>heart_disease</th>\n",
       "      <th>bmi</th>\n",
       "      <th>HbA1c_level</th>\n",
       "      <th>blood_glucose_level</th>\n",
       "      <th>gender_Male</th>\n",
       "      <th>smoking_history_current</th>\n",
       "      <th>smoking_history_ever</th>\n",
       "      <th>smoking_history_former</th>\n",
       "      <th>smoking_history_never</th>\n",
       "      <th>smoking_history_not current</th>\n",
       "    </tr>\n",
       "  </thead>\n",
       "  <tbody>\n",
       "    <tr>\n",
       "      <th>84087</th>\n",
       "      <td>0.003713</td>\n",
       "      <td>-0.284557</td>\n",
       "      <td>-0.203541</td>\n",
       "      <td>0.953700</td>\n",
       "      <td>-0.678954</td>\n",
       "      <td>-1.179723</td>\n",
       "      <td>1</td>\n",
       "      <td>0</td>\n",
       "      <td>0</td>\n",
       "      <td>0</td>\n",
       "      <td>0</td>\n",
       "      <td>0</td>\n",
       "    </tr>\n",
       "    <tr>\n",
       "      <th>46679</th>\n",
       "      <td>0.048190</td>\n",
       "      <td>-0.284557</td>\n",
       "      <td>-0.203541</td>\n",
       "      <td>-0.001362</td>\n",
       "      <td>1.001610</td>\n",
       "      <td>0.515937</td>\n",
       "      <td>0</td>\n",
       "      <td>0</td>\n",
       "      <td>0</td>\n",
       "      <td>0</td>\n",
       "      <td>0</td>\n",
       "      <td>0</td>\n",
       "    </tr>\n",
       "    <tr>\n",
       "      <th>27189</th>\n",
       "      <td>-0.752406</td>\n",
       "      <td>-0.284557</td>\n",
       "      <td>-0.203541</td>\n",
       "      <td>-0.367065</td>\n",
       "      <td>-1.892695</td>\n",
       "      <td>-0.295030</td>\n",
       "      <td>1</td>\n",
       "      <td>1</td>\n",
       "      <td>0</td>\n",
       "      <td>0</td>\n",
       "      <td>0</td>\n",
       "      <td>0</td>\n",
       "    </tr>\n",
       "    <tr>\n",
       "      <th>22555</th>\n",
       "      <td>0.315055</td>\n",
       "      <td>-0.284557</td>\n",
       "      <td>-0.203541</td>\n",
       "      <td>-0.001362</td>\n",
       "      <td>0.534787</td>\n",
       "      <td>-0.295030</td>\n",
       "      <td>0</td>\n",
       "      <td>0</td>\n",
       "      <td>0</td>\n",
       "      <td>0</td>\n",
       "      <td>0</td>\n",
       "      <td>0</td>\n",
       "    </tr>\n",
       "    <tr>\n",
       "      <th>74197</th>\n",
       "      <td>-0.752406</td>\n",
       "      <td>-0.284557</td>\n",
       "      <td>-0.203541</td>\n",
       "      <td>0.160334</td>\n",
       "      <td>-1.892695</td>\n",
       "      <td>0.049017</td>\n",
       "      <td>0</td>\n",
       "      <td>0</td>\n",
       "      <td>0</td>\n",
       "      <td>1</td>\n",
       "      <td>0</td>\n",
       "      <td>0</td>\n",
       "    </tr>\n",
       "  </tbody>\n",
       "</table>\n",
       "</div>\n",
       "      <button class=\"colab-df-convert\" onclick=\"convertToInteractive('df-6d481b9e-1590-4421-960f-b8cc5b94369f')\"\n",
       "              title=\"Convert this dataframe to an interactive table.\"\n",
       "              style=\"display:none;\">\n",
       "        \n",
       "  <svg xmlns=\"http://www.w3.org/2000/svg\" height=\"24px\"viewBox=\"0 0 24 24\"\n",
       "       width=\"24px\">\n",
       "    <path d=\"M0 0h24v24H0V0z\" fill=\"none\"/>\n",
       "    <path d=\"M18.56 5.44l.94 2.06.94-2.06 2.06-.94-2.06-.94-.94-2.06-.94 2.06-2.06.94zm-11 1L8.5 8.5l.94-2.06 2.06-.94-2.06-.94L8.5 2.5l-.94 2.06-2.06.94zm10 10l.94 2.06.94-2.06 2.06-.94-2.06-.94-.94-2.06-.94 2.06-2.06.94z\"/><path d=\"M17.41 7.96l-1.37-1.37c-.4-.4-.92-.59-1.43-.59-.52 0-1.04.2-1.43.59L10.3 9.45l-7.72 7.72c-.78.78-.78 2.05 0 2.83L4 21.41c.39.39.9.59 1.41.59.51 0 1.02-.2 1.41-.59l7.78-7.78 2.81-2.81c.8-.78.8-2.07 0-2.86zM5.41 20L4 18.59l7.72-7.72 1.47 1.35L5.41 20z\"/>\n",
       "  </svg>\n",
       "      </button>\n",
       "      \n",
       "  <style>\n",
       "    .colab-df-container {\n",
       "      display:flex;\n",
       "      flex-wrap:wrap;\n",
       "      gap: 12px;\n",
       "    }\n",
       "\n",
       "    .colab-df-convert {\n",
       "      background-color: #E8F0FE;\n",
       "      border: none;\n",
       "      border-radius: 50%;\n",
       "      cursor: pointer;\n",
       "      display: none;\n",
       "      fill: #1967D2;\n",
       "      height: 32px;\n",
       "      padding: 0 0 0 0;\n",
       "      width: 32px;\n",
       "    }\n",
       "\n",
       "    .colab-df-convert:hover {\n",
       "      background-color: #E2EBFA;\n",
       "      box-shadow: 0px 1px 2px rgba(60, 64, 67, 0.3), 0px 1px 3px 1px rgba(60, 64, 67, 0.15);\n",
       "      fill: #174EA6;\n",
       "    }\n",
       "\n",
       "    [theme=dark] .colab-df-convert {\n",
       "      background-color: #3B4455;\n",
       "      fill: #D2E3FC;\n",
       "    }\n",
       "\n",
       "    [theme=dark] .colab-df-convert:hover {\n",
       "      background-color: #434B5C;\n",
       "      box-shadow: 0px 1px 3px 1px rgba(0, 0, 0, 0.15);\n",
       "      filter: drop-shadow(0px 1px 2px rgba(0, 0, 0, 0.3));\n",
       "      fill: #FFFFFF;\n",
       "    }\n",
       "  </style>\n",
       "\n",
       "      <script>\n",
       "        const buttonEl =\n",
       "          document.querySelector('#df-6d481b9e-1590-4421-960f-b8cc5b94369f button.colab-df-convert');\n",
       "        buttonEl.style.display =\n",
       "          google.colab.kernel.accessAllowed ? 'block' : 'none';\n",
       "\n",
       "        async function convertToInteractive(key) {\n",
       "          const element = document.querySelector('#df-6d481b9e-1590-4421-960f-b8cc5b94369f');\n",
       "          const dataTable =\n",
       "            await google.colab.kernel.invokeFunction('convertToInteractive',\n",
       "                                                     [key], {});\n",
       "          if (!dataTable) return;\n",
       "\n",
       "          const docLinkHtml = 'Like what you see? Visit the ' +\n",
       "            '<a target=\"_blank\" href=https://colab.research.google.com/notebooks/data_table.ipynb>data table notebook</a>'\n",
       "            + ' to learn more about interactive tables.';\n",
       "          element.innerHTML = '';\n",
       "          dataTable['output_type'] = 'display_data';\n",
       "          await google.colab.output.renderOutput(dataTable, element);\n",
       "          const docLink = document.createElement('div');\n",
       "          docLink.innerHTML = docLinkHtml;\n",
       "          element.appendChild(docLink);\n",
       "        }\n",
       "      </script>\n",
       "    </div>\n",
       "  </div>\n",
       "  "
      ],
      "text/plain": [
       "            age  hypertension  heart_disease       bmi  HbA1c_level  \\\n",
       "84087  0.003713     -0.284557      -0.203541  0.953700    -0.678954   \n",
       "46679  0.048190     -0.284557      -0.203541 -0.001362     1.001610   \n",
       "27189 -0.752406     -0.284557      -0.203541 -0.367065    -1.892695   \n",
       "22555  0.315055     -0.284557      -0.203541 -0.001362     0.534787   \n",
       "74197 -0.752406     -0.284557      -0.203541  0.160334    -1.892695   \n",
       "\n",
       "       blood_glucose_level  gender_Male  smoking_history_current  \\\n",
       "84087            -1.179723            1                        0   \n",
       "46679             0.515937            0                        0   \n",
       "27189            -0.295030            1                        1   \n",
       "22555            -0.295030            0                        0   \n",
       "74197             0.049017            0                        0   \n",
       "\n",
       "       smoking_history_ever  smoking_history_former  smoking_history_never  \\\n",
       "84087                     0                       0                      0   \n",
       "46679                     0                       0                      0   \n",
       "27189                     0                       0                      0   \n",
       "22555                     0                       0                      0   \n",
       "74197                     0                       1                      0   \n",
       "\n",
       "       smoking_history_not current  \n",
       "84087                            0  \n",
       "46679                            0  \n",
       "27189                            0  \n",
       "22555                            0  \n",
       "74197                            0  "
      ]
     },
     "execution_count": 41,
     "metadata": {},
     "output_type": "execute_result"
    }
   ],
   "source": [
    "x_train_scaled=pd.concat([pd.DataFrame(scaler.transform(x_train[metric]),columns=metric,index=x_train[metric].index),x_train[dummy]],axis=1)\n",
    "x_train_scaled.head()"
   ]
  },
  {
   "cell_type": "code",
   "execution_count": 42,
   "metadata": {
    "colab": {
     "base_uri": "https://localhost:8080/",
     "height": 75
    },
    "executionInfo": {
     "elapsed": 25019,
     "status": "ok",
     "timestamp": 1684127704733,
     "user": {
      "displayName": "Omar Hassan",
      "userId": "03184696695209264870"
     },
     "user_tz": -330
    },
    "id": "L4QTqyXsfmgg",
    "outputId": "31d891d1-f375-427a-8b20-c2ba0bcc1ea6"
   },
   "outputs": [
    {
     "data": {
      "text/html": [
       "<style>#sk-container-id-2 {color: black;background-color: white;}#sk-container-id-2 pre{padding: 0;}#sk-container-id-2 div.sk-toggleable {background-color: white;}#sk-container-id-2 label.sk-toggleable__label {cursor: pointer;display: block;width: 100%;margin-bottom: 0;padding: 0.3em;box-sizing: border-box;text-align: center;}#sk-container-id-2 label.sk-toggleable__label-arrow:before {content: \"▸\";float: left;margin-right: 0.25em;color: #696969;}#sk-container-id-2 label.sk-toggleable__label-arrow:hover:before {color: black;}#sk-container-id-2 div.sk-estimator:hover label.sk-toggleable__label-arrow:before {color: black;}#sk-container-id-2 div.sk-toggleable__content {max-height: 0;max-width: 0;overflow: hidden;text-align: left;background-color: #f0f8ff;}#sk-container-id-2 div.sk-toggleable__content pre {margin: 0.2em;color: black;border-radius: 0.25em;background-color: #f0f8ff;}#sk-container-id-2 input.sk-toggleable__control:checked~div.sk-toggleable__content {max-height: 200px;max-width: 100%;overflow: auto;}#sk-container-id-2 input.sk-toggleable__control:checked~label.sk-toggleable__label-arrow:before {content: \"▾\";}#sk-container-id-2 div.sk-estimator input.sk-toggleable__control:checked~label.sk-toggleable__label {background-color: #d4ebff;}#sk-container-id-2 div.sk-label input.sk-toggleable__control:checked~label.sk-toggleable__label {background-color: #d4ebff;}#sk-container-id-2 input.sk-hidden--visually {border: 0;clip: rect(1px 1px 1px 1px);clip: rect(1px, 1px, 1px, 1px);height: 1px;margin: -1px;overflow: hidden;padding: 0;position: absolute;width: 1px;}#sk-container-id-2 div.sk-estimator {font-family: monospace;background-color: #f0f8ff;border: 1px dotted black;border-radius: 0.25em;box-sizing: border-box;margin-bottom: 0.5em;}#sk-container-id-2 div.sk-estimator:hover {background-color: #d4ebff;}#sk-container-id-2 div.sk-parallel-item::after {content: \"\";width: 100%;border-bottom: 1px solid gray;flex-grow: 1;}#sk-container-id-2 div.sk-label:hover label.sk-toggleable__label {background-color: #d4ebff;}#sk-container-id-2 div.sk-serial::before {content: \"\";position: absolute;border-left: 1px solid gray;box-sizing: border-box;top: 0;bottom: 0;left: 50%;z-index: 0;}#sk-container-id-2 div.sk-serial {display: flex;flex-direction: column;align-items: center;background-color: white;padding-right: 0.2em;padding-left: 0.2em;position: relative;}#sk-container-id-2 div.sk-item {position: relative;z-index: 1;}#sk-container-id-2 div.sk-parallel {display: flex;align-items: stretch;justify-content: center;background-color: white;position: relative;}#sk-container-id-2 div.sk-item::before, #sk-container-id-2 div.sk-parallel-item::before {content: \"\";position: absolute;border-left: 1px solid gray;box-sizing: border-box;top: 0;bottom: 0;left: 50%;z-index: -1;}#sk-container-id-2 div.sk-parallel-item {display: flex;flex-direction: column;z-index: 1;position: relative;background-color: white;}#sk-container-id-2 div.sk-parallel-item:first-child::after {align-self: flex-end;width: 50%;}#sk-container-id-2 div.sk-parallel-item:last-child::after {align-self: flex-start;width: 50%;}#sk-container-id-2 div.sk-parallel-item:only-child::after {width: 0;}#sk-container-id-2 div.sk-dashed-wrapped {border: 1px dashed gray;margin: 0 0.4em 0.5em 0.4em;box-sizing: border-box;padding-bottom: 0.4em;background-color: white;}#sk-container-id-2 div.sk-label label {font-family: monospace;font-weight: bold;display: inline-block;line-height: 1.2em;}#sk-container-id-2 div.sk-label-container {text-align: center;}#sk-container-id-2 div.sk-container {/* jupyter's `normalize.less` sets `[hidden] { display: none; }` but bootstrap.min.css set `[hidden] { display: none !important; }` so we also need the `!important` here to be able to override the default hidden behavior on the sphinx rendered scikit-learn.org. See: https://github.com/scikit-learn/scikit-learn/issues/21755 */display: inline-block !important;position: relative;}#sk-container-id-2 div.sk-text-repr-fallback {display: none;}</style><div id=\"sk-container-id-2\" class=\"sk-top-container\"><div class=\"sk-text-repr-fallback\"><pre>SVC(random_state=0)</pre><b>In a Jupyter environment, please rerun this cell to show the HTML representation or trust the notebook. <br />On GitHub, the HTML representation is unable to render, please try loading this page with nbviewer.org.</b></div><div class=\"sk-container\" hidden><div class=\"sk-item\"><div class=\"sk-estimator sk-toggleable\"><input class=\"sk-toggleable__control sk-hidden--visually\" id=\"sk-estimator-id-2\" type=\"checkbox\" checked><label for=\"sk-estimator-id-2\" class=\"sk-toggleable__label sk-toggleable__label-arrow\">SVC</label><div class=\"sk-toggleable__content\"><pre>SVC(random_state=0)</pre></div></div></div></div></div>"
      ],
      "text/plain": [
       "SVC(random_state=0)"
      ]
     },
     "execution_count": 42,
     "metadata": {},
     "output_type": "execute_result"
    }
   ],
   "source": [
    "classifier=SVC(random_state=0)\n",
    "classifier.fit(x_train_scaled,y_train)"
   ]
  },
  {
   "cell_type": "code",
   "execution_count": 43,
   "metadata": {
    "executionInfo": {
     "elapsed": 27765,
     "status": "ok",
     "timestamp": 1684127732493,
     "user": {
      "displayName": "Omar Hassan",
      "userId": "03184696695209264870"
     },
     "user_tz": -330
    },
    "id": "vSih9_kN3fnT"
   },
   "outputs": [],
   "source": [
    "x_test_scaled=pd.concat([pd.DataFrame(scaler.transform(x_test[metric]),columns=metric,index=x_test[metric].index),x_test[dummy]],axis=1)\n",
    "y_test_pred=classifier.predict(x_test_scaled)\n",
    "y_train_pred=classifier.predict(x_train_scaled)"
   ]
  },
  {
   "cell_type": "code",
   "execution_count": 44,
   "metadata": {
    "colab": {
     "base_uri": "https://localhost:8080/"
    },
    "executionInfo": {
     "elapsed": 29,
     "status": "ok",
     "timestamp": 1684127732494,
     "user": {
      "displayName": "Omar Hassan",
      "userId": "03184696695209264870"
     },
     "user_tz": -330
    },
    "id": "dx3nbpTy4G2K",
    "outputId": "353f098e-4a8a-478c-afb4-79c276383ac0"
   },
   "outputs": [
    {
     "name": "stdout",
     "output_type": "stream",
     "text": [
      "test:  0.9640342454792766\n",
      "train:  0.9649267863334489\n"
     ]
    }
   ],
   "source": [
    "print('test: ',accuracy_score(y_test,y_test_pred))\n",
    "print('train: ',accuracy_score(y_train,y_train_pred))"
   ]
  },
  {
   "cell_type": "code",
   "execution_count": 47,
   "metadata": {
    "executionInfo": {
     "elapsed": 410,
     "status": "ok",
     "timestamp": 1684128278203,
     "user": {
      "displayName": "Omar Hassan",
      "userId": "03184696695209264870"
     },
     "user_tz": -330
    },
    "id": "7N8lCTl21lA_"
   },
   "outputs": [],
   "source": [
    "import pickle\n",
    "from sklearn.pipeline import Pipeline\n",
    "from sklearn.base import BaseEstimator,TransformerMixin"
   ]
  },
  {
   "cell_type": "code",
   "execution_count": 64,
   "metadata": {
    "executionInfo": {
     "elapsed": 789,
     "status": "ok",
     "timestamp": 1684132085693,
     "user": {
      "displayName": "Omar Hassan",
      "userId": "03184696695209264870"
     },
     "user_tz": -330
    },
    "id": "_FpXSaKw1nYn"
   },
   "outputs": [],
   "source": [
    "class DataStandardizer(BaseEstimator,TransformerMixin):\n",
    "  cat=['gender', 'smoking_history']\n",
    "  metric=['age', 'hypertension', 'heart_disease', 'bmi', 'HbA1c_level', 'blood_glucose_level']\n",
    "  dummy=['gender_Male', 'smoking_history_current', 'smoking_history_ever', 'smoking_history_former', 'smoking_history_never', 'smoking_history_not current']\n",
    "  def fit(self,x,y=None):\n",
    "    return self\n",
    "  def transform(self,x):\n",
    "    return pd.concat([pd.DataFrame(scaler.transform(x[metric]),columns=metric,index=x[metric].index),x[dummy]],axis=1)\n"
   ]
  },
  {
   "cell_type": "code",
   "execution_count": 71,
   "metadata": {
    "executionInfo": {
     "elapsed": 2,
     "status": "ok",
     "timestamp": 1684132791453,
     "user": {
      "displayName": "Omar Hassan",
      "userId": "03184696695209264870"
     },
     "user_tz": -330
    },
    "id": "sOy8gB1DGT6-"
   },
   "outputs": [],
   "source": [
    "class DummyVariables(BaseEstimator,TransformerMixin):\n",
    "  def __init__(self):\n",
    "    self.cat=['gender', 'smoking_history']\n",
    "    self.metric=['age', 'hypertension', 'heart_disease', 'bmi', 'HbA1c_level', 'blood_glucose_level']\n",
    "    self.dummy=['gender_Male', 'smoking_history_current', 'smoking_history_ever', 'smoking_history_former', 'smoking_history_never', 'smoking_history_not current']\n",
    "    self.dummy_location={\n",
    "        'current':self.dummy[1],\n",
    "        'ever':self.dummy[2],\n",
    "        'former':self.dummy[3],\n",
    "        'never':self.dummy[4],\n",
    "        'not current':self.dummy[5]\n",
    "    }\n",
    "  def fit(self,x,y=None):\n",
    "    return self\n",
    "  def transform(self,x):\n",
    "   gender=x['gender'][0]\n",
    "   smoking_history=self.dummy_location[x['smoking_history'][0]]\n",
    "   x.drop(cat,inplace=True,axis=1)\n",
    "   for i in dummy:\n",
    "    if(i=='gender_Male'):\n",
    "      if(gender=='Male'):\n",
    "        x.loc[0,i]=1\n",
    "      else:\n",
    "        x.loc[0,i]=0\n",
    "    elif(i==smoking_history):\n",
    "      x.loc[0,i]=1\n",
    "    else:\n",
    "      x.loc[0,i]=0\n",
    "    x[i].astype(int)\n",
    "   return x"
   ]
  },
  {
   "cell_type": "code",
   "execution_count": 72,
   "metadata": {
    "executionInfo": {
     "elapsed": 851,
     "status": "ok",
     "timestamp": 1684132795507,
     "user": {
      "displayName": "Omar Hassan",
      "userId": "03184696695209264870"
     },
     "user_tz": -330
    },
    "id": "4MsKop-r9rTN"
   },
   "outputs": [],
   "source": [
    "class data_input:\n",
    "  def __init__(self,gender:str,age:float,hypertension:int,heart_disease:int,smoking_history:str,bmi:float,HbA1c_level:float,\n",
    "               blood_glucose_level:int):\n",
    "    self.gender=gender\n",
    "    self.age=age\n",
    "    self.hypertension=hypertension\n",
    "    self.heart_disease=heart_disease\n",
    "    self.smoking_history=smoking_history\n",
    "    self.bmi=bmi\n",
    "    self.HbA1c_level=HbA1c_level\n",
    "    self.blood_glucose_level=blood_glucose_level\n",
    "\n",
    "  def get_data(self):\n",
    "    dictionary={\n",
    "        'gender':self.gender,\n",
    "        'age':self.age,\n",
    "        'hypertension':self.hypertension,\n",
    "        'heart_disease':self.heart_disease,\n",
    "        'smoking_history':self.smoking_history,\n",
    "        'bmi':self.bmi,\n",
    "        'HbA1c_level':self.HbA1c_level,\n",
    "        'blood_glucose_level':self.blood_glucose_level\n",
    "    }\n",
    "    return pd.DataFrame(dictionary,index=[0])\n"
   ]
  },
  {
   "cell_type": "code",
   "execution_count": 73,
   "metadata": {
    "executionInfo": {
     "elapsed": 1115,
     "status": "ok",
     "timestamp": 1684132798354,
     "user": {
      "displayName": "Omar Hassan",
      "userId": "03184696695209264870"
     },
     "user_tz": -330
    },
    "id": "onU4GIZl73QP"
   },
   "outputs": [],
   "source": [
    "pipe=Pipeline([\n",
    "    ('DummyVariables',DummyVariables()),\n",
    "    ('DataStandardizer',DataStandardizer()),\n",
    "    ('Classifier',classifier)\n",
    "])\n",
    "data1=data_input(gender='Male',age=28.0,hypertension=0,heart_disease=1,smoking_history='never',bmi=20.14,HbA1c_level=6.6,\n",
    "                 blood_glucose_level=80)\n",
    "test_data=data1.get_data()"
   ]
  },
  {
   "cell_type": "code",
   "execution_count": 74,
   "metadata": {
    "colab": {
     "base_uri": "https://localhost:8080/",
     "height": 81
    },
    "executionInfo": {
     "elapsed": 444,
     "status": "ok",
     "timestamp": 1684132801823,
     "user": {
      "displayName": "Omar Hassan",
      "userId": "03184696695209264870"
     },
     "user_tz": -330
    },
    "id": "HBCFq0kFB0up",
    "outputId": "3ca1ac0d-6007-423a-91be-977758bcfc3d"
   },
   "outputs": [
    {
     "data": {
      "text/html": [
       "\n",
       "  <div id=\"df-2fa9be1b-453f-4350-9428-508480aec399\">\n",
       "    <div class=\"colab-df-container\">\n",
       "      <div>\n",
       "<style scoped>\n",
       "    .dataframe tbody tr th:only-of-type {\n",
       "        vertical-align: middle;\n",
       "    }\n",
       "\n",
       "    .dataframe tbody tr th {\n",
       "        vertical-align: top;\n",
       "    }\n",
       "\n",
       "    .dataframe thead th {\n",
       "        text-align: right;\n",
       "    }\n",
       "</style>\n",
       "<table border=\"1\" class=\"dataframe\">\n",
       "  <thead>\n",
       "    <tr style=\"text-align: right;\">\n",
       "      <th></th>\n",
       "      <th>gender</th>\n",
       "      <th>age</th>\n",
       "      <th>hypertension</th>\n",
       "      <th>heart_disease</th>\n",
       "      <th>smoking_history</th>\n",
       "      <th>bmi</th>\n",
       "      <th>HbA1c_level</th>\n",
       "      <th>blood_glucose_level</th>\n",
       "    </tr>\n",
       "  </thead>\n",
       "  <tbody>\n",
       "    <tr>\n",
       "      <th>0</th>\n",
       "      <td>Male</td>\n",
       "      <td>28.0</td>\n",
       "      <td>0</td>\n",
       "      <td>1</td>\n",
       "      <td>never</td>\n",
       "      <td>20.14</td>\n",
       "      <td>6.6</td>\n",
       "      <td>80</td>\n",
       "    </tr>\n",
       "  </tbody>\n",
       "</table>\n",
       "</div>\n",
       "      <button class=\"colab-df-convert\" onclick=\"convertToInteractive('df-2fa9be1b-453f-4350-9428-508480aec399')\"\n",
       "              title=\"Convert this dataframe to an interactive table.\"\n",
       "              style=\"display:none;\">\n",
       "        \n",
       "  <svg xmlns=\"http://www.w3.org/2000/svg\" height=\"24px\"viewBox=\"0 0 24 24\"\n",
       "       width=\"24px\">\n",
       "    <path d=\"M0 0h24v24H0V0z\" fill=\"none\"/>\n",
       "    <path d=\"M18.56 5.44l.94 2.06.94-2.06 2.06-.94-2.06-.94-.94-2.06-.94 2.06-2.06.94zm-11 1L8.5 8.5l.94-2.06 2.06-.94-2.06-.94L8.5 2.5l-.94 2.06-2.06.94zm10 10l.94 2.06.94-2.06 2.06-.94-2.06-.94-.94-2.06-.94 2.06-2.06.94z\"/><path d=\"M17.41 7.96l-1.37-1.37c-.4-.4-.92-.59-1.43-.59-.52 0-1.04.2-1.43.59L10.3 9.45l-7.72 7.72c-.78.78-.78 2.05 0 2.83L4 21.41c.39.39.9.59 1.41.59.51 0 1.02-.2 1.41-.59l7.78-7.78 2.81-2.81c.8-.78.8-2.07 0-2.86zM5.41 20L4 18.59l7.72-7.72 1.47 1.35L5.41 20z\"/>\n",
       "  </svg>\n",
       "      </button>\n",
       "      \n",
       "  <style>\n",
       "    .colab-df-container {\n",
       "      display:flex;\n",
       "      flex-wrap:wrap;\n",
       "      gap: 12px;\n",
       "    }\n",
       "\n",
       "    .colab-df-convert {\n",
       "      background-color: #E8F0FE;\n",
       "      border: none;\n",
       "      border-radius: 50%;\n",
       "      cursor: pointer;\n",
       "      display: none;\n",
       "      fill: #1967D2;\n",
       "      height: 32px;\n",
       "      padding: 0 0 0 0;\n",
       "      width: 32px;\n",
       "    }\n",
       "\n",
       "    .colab-df-convert:hover {\n",
       "      background-color: #E2EBFA;\n",
       "      box-shadow: 0px 1px 2px rgba(60, 64, 67, 0.3), 0px 1px 3px 1px rgba(60, 64, 67, 0.15);\n",
       "      fill: #174EA6;\n",
       "    }\n",
       "\n",
       "    [theme=dark] .colab-df-convert {\n",
       "      background-color: #3B4455;\n",
       "      fill: #D2E3FC;\n",
       "    }\n",
       "\n",
       "    [theme=dark] .colab-df-convert:hover {\n",
       "      background-color: #434B5C;\n",
       "      box-shadow: 0px 1px 3px 1px rgba(0, 0, 0, 0.15);\n",
       "      filter: drop-shadow(0px 1px 2px rgba(0, 0, 0, 0.3));\n",
       "      fill: #FFFFFF;\n",
       "    }\n",
       "  </style>\n",
       "\n",
       "      <script>\n",
       "        const buttonEl =\n",
       "          document.querySelector('#df-2fa9be1b-453f-4350-9428-508480aec399 button.colab-df-convert');\n",
       "        buttonEl.style.display =\n",
       "          google.colab.kernel.accessAllowed ? 'block' : 'none';\n",
       "\n",
       "        async function convertToInteractive(key) {\n",
       "          const element = document.querySelector('#df-2fa9be1b-453f-4350-9428-508480aec399');\n",
       "          const dataTable =\n",
       "            await google.colab.kernel.invokeFunction('convertToInteractive',\n",
       "                                                     [key], {});\n",
       "          if (!dataTable) return;\n",
       "\n",
       "          const docLinkHtml = 'Like what you see? Visit the ' +\n",
       "            '<a target=\"_blank\" href=https://colab.research.google.com/notebooks/data_table.ipynb>data table notebook</a>'\n",
       "            + ' to learn more about interactive tables.';\n",
       "          element.innerHTML = '';\n",
       "          dataTable['output_type'] = 'display_data';\n",
       "          await google.colab.output.renderOutput(dataTable, element);\n",
       "          const docLink = document.createElement('div');\n",
       "          docLink.innerHTML = docLinkHtml;\n",
       "          element.appendChild(docLink);\n",
       "        }\n",
       "      </script>\n",
       "    </div>\n",
       "  </div>\n",
       "  "
      ],
      "text/plain": [
       "  gender   age  hypertension  heart_disease smoking_history    bmi  \\\n",
       "0   Male  28.0             0              1           never  20.14   \n",
       "\n",
       "   HbA1c_level  blood_glucose_level  \n",
       "0          6.6                   80  "
      ]
     },
     "execution_count": 74,
     "metadata": {},
     "output_type": "execute_result"
    }
   ],
   "source": [
    "test_data"
   ]
  },
  {
   "cell_type": "code",
   "execution_count": 75,
   "metadata": {
    "colab": {
     "base_uri": "https://localhost:8080/"
    },
    "executionInfo": {
     "elapsed": 539,
     "status": "ok",
     "timestamp": 1684132805097,
     "user": {
      "displayName": "Omar Hassan",
      "userId": "03184696695209264870"
     },
     "user_tz": -330
    },
    "id": "aCAhV4PeB8eL",
    "outputId": "2b376a69-c71b-41f3-d7d6-49325fd132d4"
   },
   "outputs": [
    {
     "data": {
      "text/plain": [
       "array([0])"
      ]
     },
     "execution_count": 75,
     "metadata": {},
     "output_type": "execute_result"
    }
   ],
   "source": [
    "pipe.predict(test_data)"
   ]
  },
  {
   "cell_type": "code",
   "execution_count": 76,
   "metadata": {
    "executionInfo": {
     "elapsed": 799,
     "status": "ok",
     "timestamp": 1684133012521,
     "user": {
      "displayName": "Omar Hassan",
      "userId": "03184696695209264870"
     },
     "user_tz": -330
    },
    "id": "_Ttk4ebHI9I3"
   },
   "outputs": [],
   "source": [
    "with open('/content/drive/MyDrive/Projects/Diabetes-Classification/DiabetesClassifier.pickle','wb') as f:\n",
    "  pickle.dump(pipe,f)"
   ]
  }
 ],
 "metadata": {
  "colab": {
   "provenance": []
  },
  "gpuClass": "standard",
  "kernelspec": {
   "display_name": "Python 3 (ipykernel)",
   "language": "python",
   "name": "python3"
  },
  "language_info": {
   "codemirror_mode": {
    "name": "ipython",
    "version": 3
   },
   "file_extension": ".py",
   "mimetype": "text/x-python",
   "name": "python",
   "nbconvert_exporter": "python",
   "pygments_lexer": "ipython3",
   "version": "3.10.9"
  }
 },
 "nbformat": 4,
 "nbformat_minor": 1
}
